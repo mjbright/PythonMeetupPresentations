{
 "cells": [
  {
   "cell_type": "markdown",
   "metadata": {},
   "source": [
    "<a name=\"TOP\" />\n",
    "\n",
    "# Functional Programming  - List, Hash, Generator Comprehensions\n",
    "\n",
    "<a href=\"#Monads\"> Monads </a>\n",
    "\n",
    "<a href=\"#TOP_BLOG\"> FP Blog </a>\n",
    "\n",
    "## List Comprehensions\n",
    "\n",
    "(http://www.secnetix.de/olli/Python/list_comprehensions.hawk)"
   ]
  },
  {
   "cell_type": "code",
   "execution_count": 67,
   "metadata": {
    "collapsed": false
   },
   "outputs": [
    {
     "name": "stdout",
     "output_type": "stream",
     "text": [
      "[0, 1, 2, 3, 4, 5, 6, 7, 8, 9]\n"
     ]
    }
   ],
   "source": [
    "print( list (range(10)))"
   ]
  },
  {
   "cell_type": "code",
   "execution_count": 69,
   "metadata": {
    "collapsed": false
   },
   "outputs": [
    {
     "name": "stdout",
     "output_type": "stream",
     "text": [
      "[0, 1, 4, 9, 16, 25, 36, 49, 64, 81]\n"
     ]
    }
   ],
   "source": [
    "S = [x**2 for x in range(10)]\n",
    "print(S)"
   ]
  },
  {
   "cell_type": "code",
   "execution_count": 70,
   "metadata": {
    "collapsed": true
   },
   "outputs": [],
   "source": [
    "noprimes = [j for i in range(2, 8) for j in range(i*2, 50, i)]"
   ]
  },
  {
   "cell_type": "code",
   "execution_count": 72,
   "metadata": {
    "collapsed": false
   },
   "outputs": [
    {
     "name": "stdout",
     "output_type": "stream",
     "text": [
      "[2, 3, 5, 7, 11, 13, 17, 19, 23, 29, 31, 37, 41, 43, 47]\n"
     ]
    }
   ],
   "source": [
    "primes   = [x for x in range(2, 50) if x not in noprimes]\n",
    "print(primes)"
   ]
  },
  {
   "cell_type": "code",
   "execution_count": null,
   "metadata": {
    "collapsed": false
   },
   "outputs": [],
   "source": [
    "words = 'The quick brown fox jumps over the lazy dog'.split()\n",
    "print(words)\n",
    "stuff = [[w.upper(), w.lower(), len(w)] for w in words]\n",
    "for i in stuff:\n",
    "    print(i)"
   ]
  },
  {
   "cell_type": "code",
   "execution_count": null,
   "metadata": {
    "collapsed": true
   },
   "outputs": [],
   "source": [
    ">>> \n",
    ">>> stuff = map(lambda w: [w.upper(), w.lower(), len(w)], words)\n",
    ">>> for i in stuff:\n",
    "...     print i"
   ]
  },
  {
   "cell_type": "markdown",
   "metadata": {},
   "source": [
    "### Nested list comprehensions"
   ]
  },
  {
   "cell_type": "code",
   "execution_count": null,
   "metadata": {
    "collapsed": false
   },
   "outputs": [],
   "source": [
    "l = [['40', '20', '10', '30'], ['20', '20', '20', '20', '20', '30', '20'], ['30', '20', '30', '50', '10', '30', '20', '20', '20'], ['100', '100'], ['100', '100', '100', '100', '100'], ['100', '100', '100', '100']]\n",
    ">>> new_list = [float(x) for xs in l for x in xs]\n",
    ">>> new_list"
   ]
  },
  {
   "cell_type": "markdown",
   "metadata": {},
   "source": [
    "## Dictionary Comprehensions"
   ]
  },
  {
   "cell_type": "code",
   "execution_count": 73,
   "metadata": {
    "collapsed": false
   },
   "outputs": [
    {
     "name": "stdout",
     "output_type": "stream",
     "text": [
      "{0: 0, 1: 1, 2: 4, 3: 9, 4: 16}\n"
     ]
    }
   ],
   "source": [
    "d = {n: n**2 for n in range(5)}\n",
    "print(d)"
   ]
  },
  {
   "cell_type": "markdown",
   "metadata": {},
   "source": [
    "## Generators"
   ]
  },
  {
   "cell_type": "code",
   "execution_count": 74,
   "metadata": {
    "collapsed": false
   },
   "outputs": [
    {
     "name": "stdout",
     "output_type": "stream",
     "text": [
      "<generator object aGenerator at 0x7fbba4a8a258>\n"
     ]
    }
   ],
   "source": [
    "def aGenerator(lim=10):\n",
    "    for i in range(1, lim):\n",
    "        yield i*i\n",
    "        \n",
    "        \n",
    "print ( aGenerator(4) )"
   ]
  },
  {
   "cell_type": "code",
   "execution_count": 75,
   "metadata": {
    "collapsed": false
   },
   "outputs": [
    {
     "name": "stdout",
     "output_type": "stream",
     "text": [
      "Generator size    =64\n",
      "List from gen size=88\n"
     ]
    }
   ],
   "source": [
    "ag = aGenerator(4)\n",
    "print( \"Generator size    =\" + str( ag.__sizeof__() ))\n",
    "print( \"List from gen size=\" + str(list ( ag ).__sizeof__() ))\n"
   ]
  },
  {
   "cell_type": "code",
   "execution_count": 76,
   "metadata": {
    "collapsed": false
   },
   "outputs": [
    {
     "name": "stdout",
     "output_type": "stream",
     "text": [
      "Generator size    =64\n",
      "List from gen size=1776\n"
     ]
    }
   ],
   "source": [
    "ag = aGenerator(200)\n",
    "print( \"Generator size    =\" + str( ag.__sizeof__() ))\n",
    "print( \"List from gen size=\" + str(list ( ag ).__sizeof__() ))"
   ]
  },
  {
   "cell_type": "code",
   "execution_count": 77,
   "metadata": {
    "collapsed": false
   },
   "outputs": [
    {
     "name": "stdout",
     "output_type": "stream",
     "text": [
      "\n",
      "Generator size    =64\n",
      "List from gen size=40\n"
     ]
    }
   ],
   "source": [
    "print()\n",
    "print( \"Generator size    =\" + str( ag.__sizeof__() ))\n",
    "print( \"List from gen size=\" + str(list ( ag ).__sizeof__() ))"
   ]
  },
  {
   "cell_type": "code",
   "execution_count": null,
   "metadata": {
    "collapsed": false
   },
   "outputs": [],
   "source": [
    "ag = aGenerator(7)\n",
    "\n",
    "for i in ag:\n",
    "    print(i)\n"
   ]
  },
  {
   "cell_type": "markdown",
   "metadata": {},
   "source": [
    "## Generator Comprehensions"
   ]
  },
  {
   "cell_type": "code",
   "execution_count": null,
   "metadata": {
    "collapsed": true
   },
   "outputs": [],
   "source": [
    "def divByZero(val):\n",
    "    return val/0\n",
    "\n",
    "#g = ( i for i in [1,2,3,divByZero(4)] )"
   ]
  },
  {
   "cell_type": "code",
   "execution_count": 78,
   "metadata": {
    "collapsed": false
   },
   "outputs": [
    {
     "name": "stdout",
     "output_type": "stream",
     "text": [
      "VAL=4\n",
      "<generator object <genexpr> at 0x7fbba4a8a678>\n"
     ]
    }
   ],
   "source": [
    "def setVal(val):\n",
    "    print(\"VAL=\" + str(val))\n",
    "    return val\n",
    "\n",
    "g = ( i/0 for i in [1,2,3,setVal(4)] )\n",
    "print(g)\n",
    "#print(len(g))"
   ]
  },
  {
   "cell_type": "code",
   "execution_count": null,
   "metadata": {
    "collapsed": false
   },
   "outputs": [],
   "source": []
  },
  {
   "cell_type": "markdown",
   "metadata": {},
   "source": [
    "<a name=\"TOP_BLOG\" />\n",
    "# Functional Python\n",
    "\n",
    "Largely inspired by this series of Blog Posts (a clear, succinct summary) in 6 parts:\n",
    "\n",
    "[So You Want to be a Functional Programmer (Part 1)](https://medium.com/@cscalfani/so-you-want-to-be-a-functional-programmer-part-1-1f15e387e536#.14vg66ak9)\n",
    "\n",
    "part1 | part2| part3 | part4 | part5 | part 6\n",
    "-|-|-\n",
    "<a href=\"#Part1\" > BELOW </a> | <a href=\"#Part2\" > BELOW </a> | <a href=\"#Part3\" > BELOW </a> | <a href=\"#Part4\" > BELOW </a> | <a href=\"#Part5\" > BELOW </a> | <a href=\"#Part6\" > BELOW </a>"
   ]
  },
  {
   "cell_type": "markdown",
   "metadata": {},
   "source": []
  },
  {
   "cell_type": "markdown",
   "metadata": {},
   "source": [
    "# Part1\n",
    "<a href=\"#TOP\"> TOP </a>\n",
    "\n",
    "\n",
    "Learning to Drive -> changing car -> Your First Spaceship\n",
    "Forget Everything You KnowLearning functional programming is like starting from scratch. Not completely, but effectively. There are lots of similar concepts but it’s best if you just expect that you have to relearn everything.\n",
    "\n",
    "With the right perspective you’ll have the right expectations and with the right expectations you won’t quit when things get hard.\n",
    "There are all kinds of things that you’re used to doing as a programmer that you cannot do any more with Functional Programming.\n",
    "\n",
    "Just like in your car, you used to backup to get out of the driveway. But in a spaceship, there is no reverse. Now you may think, “WHAT? NO REVERSE?! HOW THE HELL AM I SUPPOSED TO DRIVE WITHOUT REVERSE?!”\n",
    "Well, it turns out that you don’t need reverse in a spaceship because of its ability to maneuver in three dimensional space. Once you understand this, you’ll never miss reverse again. In fact, someday, you’ll think back at how limiting the car really was.\n",
    "\n",
    "Learning Functional Programming takes a while. So be patient.\n",
    "\n",
    "So let’s exit the cold world of Imperative Programming and take a gentle dip into the hot springs of Functional Programming.\n",
    "\n",
    "## Purity\n",
    "\n",
    "When Functional Programmers talk of Purity, they are referring to Pure Functions.\n",
    "\n",
    "Pure Functions are very simple functions. They only operate on their input parameters.\n",
    "\n",
    "Here’s an example in Python of a Pure Function:\n"
   ]
  },
  {
   "cell_type": "code",
   "execution_count": null,
   "metadata": {
    "collapsed": false
   },
   "outputs": [],
   "source": [
    "z = 10\n",
    "\n",
    "def pureadd(x, y):\n",
    "    ''' A pure function as it doesn't access z or other external variable '''\n",
    "    return x + y\n",
    "\n",
    "print( pureadd(5, 4) )\n",
    "print( z )\n"
   ]
  },
  {
   "cell_type": "markdown",
   "metadata": {},
   "source": [
    "Notice that the add function does NOT touch the z variable. It doesn’t read from z and it doesn’t write to z. It only reads x and y, its inputs, and returns the result of adding them together.\n",
    "That’s a pure function. If the add function did access z, it would no longer be pure.\n",
    "\n",
    "Here’s another function to consider:"
   ]
  },
  {
   "cell_type": "code",
   "execution_count": null,
   "metadata": {
    "collapsed": false
   },
   "outputs": [],
   "source": [
    "def justTen():\n",
    "    return 10\n",
    "\n",
    "justTen()"
   ]
  },
  {
   "cell_type": "markdown",
   "metadata": {},
   "source": [
    "### If the function, justTen, is pure, then it can only return a constant. Why?\n",
    "\n",
    "Because we haven’t given it any inputs. And since, to be pure, it cannot access anything other than its own inputs, the only thing it can return is a constant.\n",
    "\n",
    "Since pure functions that take no parameters do no work, they aren’t very useful. It would be better if justTen was defined as a constant.\n"
   ]
  },
  {
   "cell_type": "markdown",
   "metadata": {},
   "source": [
    "### Most useful Pure Functions must take at least one parameter.\n",
    "Consider this function:"
   ]
  },
  {
   "cell_type": "code",
   "execution_count": null,
   "metadata": {
    "collapsed": true
   },
   "outputs": [],
   "source": [
    "def addNoReturn(x, y):\n",
    "    z = x + y\n",
    "\n",
    "addNoReturn(5, 10)"
   ]
  },
  {
   "cell_type": "markdown",
   "metadata": {},
   "source": [
    "Notice how this function doesn’t return anything.\n",
    "\n",
    "It adds x and y and puts it into a variable z but doesn’t return it.\n",
    "\n",
    "It’s a pure function since it only deals with its inputs.\n",
    "\n",
    "It does add, but since it doesn’t return the results, it’s useless."
   ]
  },
  {
   "cell_type": "markdown",
   "metadata": {},
   "source": [
    "### All useful Pure Functions must return something.\n",
    "\n",
    "Let’s consider the first add function again:"
   ]
  },
  {
   "cell_type": "code",
   "execution_count": null,
   "metadata": {
    "collapsed": false
   },
   "outputs": [],
   "source": [
    "def add(x, y):\n",
    "    return x + y\n",
    "\n",
    "print(add(1, 2))   # prints 3\n",
    "print(add(1, 2))   # still prints 3\n",
    "print(add(1, 2))   # WILL ALWAYS print 3\n"
   ]
  },
  {
   "cell_type": "markdown",
   "metadata": {},
   "source": [
    "Notice that add(1, 2) is always 3.\n",
    "\n",
    "Not a huge surprise but only because the function is pure.\n",
    "\n",
    "If the add function used some outside value, then you could never predict its behavior.\n",
    "\n",
    "### Pure Functions will always produce the same output given the same inputs.\n",
    "\n",
    "### Since Pure Functions cannot change any external variables, all of the following functions are impure:\n",
    "```\n",
    "writeFile(fileName);\n",
    "updateDatabaseTable(sqlCmd);\n",
    "sendAjaxRequest(ajaxRequest);\n",
    "openSocket(ipAddress);\n",
    "```\n",
    "\n",
    "All of these function have what are called Side Effects.\n",
    "\n",
    "When you call them, they change files and database tables, send data to a server or call the OS to get a socket.\n",
    "\n",
    "They do more than just operate on their inputs and return outputs.\n",
    "\n",
    "Therefore, you can never predict what these functions will return.\n",
    "\n",
    "### Pure functions have no side effects.\n",
    "\n",
    "In Imperative Programming Languages such as Javascript, Java, and C#, Side Effects are everywhere.\n",
    "\n",
    "This makes debugging very difficult because a variable can be changed anywhere in your program.\n",
    "\n",
    "#### So when you have a bug because a variable is changed to the wrong value at the wrong time, where do you look?\n",
    "\n",
    "#### Everywhere? That’s not good.\n",
    "\n",
    "At this point, you’re probably thinking, “HOW THE HELL DO I DO ANYTHING WITH ONLY PURE FUNCTIONS?!”"
   ]
  },
  {
   "cell_type": "markdown",
   "metadata": {},
   "source": [
    "### In Functional Programming, you don’t just write Pure Functions.\n",
    "\n",
    "Functional Languages cannot eliminate Side Effects, they can only confine them.\n",
    "\n",
    "Since programs have to interface to the real world, **some parts of every program must be impure**.\n",
    "\n",
    "The goal is to minimize the amount of impure code and segregate it from the rest of our program.\n",
    "\n",
    "## Immutability\n",
    "\n",
    "Do you remember when you first saw the following bit of code:"
   ]
  },
  {
   "cell_type": "code",
   "execution_count": null,
   "metadata": {
    "collapsed": false
   },
   "outputs": [],
   "source": [
    "x = 1\n",
    "x = x + 1\n",
    "x"
   ]
  },
  {
   "cell_type": "markdown",
   "metadata": {},
   "source": [
    "And whoever was teaching you told you to forget what you learned in math class?\n",
    "\n",
    "#### In math, x can never be equal to x + 1.\n",
    "\n",
    "But in Imperative Programming, it means, take the current value of x add 1 to it and put that result back into x.\n",
    "\n",
    "Well, in functional programming, x = x + 1 is illegal.\n",
    "\n",
    "So you have to remember what you forgot in math… Sort of.\n",
    "\n",
    "### There are no variables in Functional Programming.\n",
    "\n",
    "Stored values are still called *variables* because of history but they are *constants*, i.e. once x takes on a value, it’s that value for life.\n",
    "\n",
    "Don’t worry, x is usually a local variable so its life is usually short.\n",
    "\n",
    "But while it’s alive, it can never change.\n",
    "\n",
    "In some languages it is possible to declare *constant variables*, often in a declarative block in functional languages.\n",
    "\n",
    "Python has no constants, but we can see that Python's scoping at least provides a similar effect below:\n"
   ]
  },
  {
   "cell_type": "code",
   "execution_count": null,
   "metadata": {
    "collapsed": false
   },
   "outputs": [],
   "source": [
    "def addOneToSum(y, z):\n",
    "    x = 1\n",
    "    return x + y + z\n",
    "\n",
    "print( addOneToSum(6, 7) )\n",
    "\n",
    "print( x )"
   ]
  },
  {
   "cell_type": "markdown",
   "metadata": {},
   "source": [
    "#### In the above\n",
    "\n",
    "Now when we print x, we print the x within scope.\n",
    "\n",
    "The x within addOneToSum is out of scope (destroyed on function return)\n",
    "\n",
    "So we are using a functional style in Python"
   ]
  },
  {
   "cell_type": "markdown",
   "metadata": {},
   "source": [
    "Let’s think about when we want to modify variables. There are 2 general cases that come to mind: multi-valued changes \n",
    "\n",
    "(e.g. changing a single value of an object or record) and single-valued changes (e.g. loop counters).\n",
    "\n",
    "Functional Programming deals with changes to values in a record by making a copy of the record with the values changed. \n",
    "\n",
    "It does this efficiently without having to copy all parts of the record by using data structures that makes this possible.\n",
    "\n",
    "Functional programming solves the single-valued change in exactly the same way, by making a copy of it.\n",
    "\n",
    "Oh, yes and by not having loops.\n",
    "\n",
    "“WHAT NO VARIABLES AND NOW NO LOOPS?! I HATE YOU!!!”"
   ]
  },
  {
   "cell_type": "markdown",
   "metadata": {},
   "source": [
    "## No loops\n",
    "Hold on. It’s not like we can’t do loops (no pun intended), it’s just that there are no specific loop constructs like for, while, do, repeat, etc.\n",
    "\n",
    "### Functional Programming uses recursion to do looping.\n",
    "\n",
    "How can we implement a loop such as the one below without using a *looping* construct:"
   ]
  },
  {
   "cell_type": "code",
   "execution_count": null,
   "metadata": {
    "collapsed": false
   },
   "outputs": [],
   "source": [
    "sum=0\n",
    "\n",
    "for i in range(11):\n",
    "    sum += i\n",
    "    \n",
    "print(sum)"
   ]
  },
  {
   "cell_type": "markdown",
   "metadata": {},
   "source": [
    "Here are two ways to achieve looping using recursion in Python:"
   ]
  },
  {
   "cell_type": "code",
   "execution_count": null,
   "metadata": {
    "collapsed": false
   },
   "outputs": [],
   "source": [
    "def sumRange(start, end, accumulator):\n",
    "    \n",
    "    # Detect end condition and return accumulated value:\n",
    "    if start > end:\n",
    "        return accumulator\n",
    "    \n",
    "    # (tail) Recurse passing new start and accumulator values:\n",
    "    return sumRange(start + 1, end, accumulator + start)\n",
    "\n",
    "sumRange(1, 10, 0)"
   ]
  },
  {
   "cell_type": "markdown",
   "metadata": {},
   "source": [
    "Notice how recursion, the functional approach, accomplishes the same as the for loop by calling itself\n",
    "- with a new start (start + 1) and\n",
    "- a new accumulator (acc + start).\n",
    "\n",
    "It doesn’t modify the old values. Instead it uses new values calculated from the old."
   ]
  },
  {
   "cell_type": "markdown",
   "metadata": {},
   "source": [
    "<pre>\n",
    "Here’s how it runs:\n",
    "sumRange(1, 10, 0)      # sumRange(1+1, 10, 0+1)\n",
    "sumRange(2, 10, 1)      # sumRange(2+1, 10, 1 + 2)\n",
    "sumRange(3, 10, 3)      # sumRange(3+1, 10, 3 + 3)\n",
    "sumRange(4, 10, 6)      # sumRange(4+1, 10, 6 + 4)\n",
    "sumRange(5, 10, 10)     # sumRange(5+1, 10, 10 + 5)\n",
    "sumRange(6, 10, 15)     # sumRange(6+1, 10, 15 + 6)\n",
    "sumRange(7, 10, 21)     # sumRange(7+1, 10, 21 + 7)\n",
    "sumRange(8, 10, 28)     # sumRange(8+1, 10, 28 + 8)\n",
    "sumRange(9, 10, 36)     # sumRange(9+1, 10, 36 + 9)\n",
    "sumRange(10, 10, 45)    # sumRange(10+1, 10, 45 + 10)\n",
    "\n",
    "sumRange(11, 10, 55)    # 11 > 10 => 55\n",
    "\n",
    "55\n",
    "</pre>\n",
    "\n",
    "You’re probably thinking that for loops are easier to understand. While that’s debatable and more likely an issue of familiarity, non-recursive loops require Mutability, which is bad."
   ]
  },
  {
   "cell_type": "markdown",
   "metadata": {},
   "source": [
    "### Benefits of Immutability\n",
    "\n",
    "- We know that values are read-only, no surprise changes\n",
    "- functions are thread safe\n",
    "\n",
    "Immutability creates simpler and safer code.\n",
    "\n"
   ]
  },
  {
   "cell_type": "markdown",
   "metadata": {
    "collapsed": true
   },
   "source": [
    "# Part2\n",
    "<a href=\"#TOP\"> TOP </a>\n",
    "\n"
   ]
  },
  {
   "cell_type": "markdown",
   "metadata": {},
   "source": [
    "## Refactoring\n",
    "\n",
    "Let’s think about refactoring for a minute. Here’s some Javascript code:\n",
    "```"
   ]
  },
  {
   "cell_type": "code",
   "execution_count": null,
   "metadata": {
    "collapsed": false
   },
   "outputs": [],
   "source": [
    "import re\n",
    "\n",
    "def validateSsn(ssn):\n",
    "    #regex_ssn='^\\d{3}-\\d{2}-\\d{4}$'\n",
    "    regex_ssn='^\\d{3}-\\d{2}-\\d{4}$'\n",
    "    \n",
    "    if re.compile(regex_ssn).match(ssn):\n",
    "        print('Valid SSN Number: ' + ssn)\n",
    "    else:\n",
    "        print('ERROR: Invalid SSN Number: ' + ssn)\n",
    "\n",
    "def validatePhone(phone):\n",
    "    #regex_phone='^\\(\\d{3}\\)\\d{3}-\\d{4}$'\n",
    "    regex_phone='^\\d{3}\\d{3}-\\d{4}$'\n",
    "    \n",
    "    #p = re.compile(regex_phone)\n",
    "    #print(str(p))\n",
    "    #m = p.match(phone)\n",
    "    #print(str(m))\n",
    "    \n",
    "    if re.compile(regex_phone).match(phone):\n",
    "        print('Valid Phone Number: ' + phone)\n",
    "    else:\n",
    "        print('ERROR: Invalid Phone Number: ' + phone)\n",
    "\n",
    "validatePhone(\"333333-4444\")\n",
    "validatePhone(\"33333-4444\")\n",
    "validatePhone(\"1333333-4444\")\n",
    "validatePhone(\"333333-44445\")\n",
    "\n",
    "validateSsn(\"123-45-6789\")\n"
   ]
  },
  {
   "cell_type": "markdown",
   "metadata": {},
   "source": [
    "We’ve all written code like this before and over time, we start to recognize that these two functions are practically the same and only differ by a few things (shown in bold).\n",
    "\n",
    "Instead of copying validateSsn and pasting and editing to create validatePhone, we should create a single function and parameterize the things that we edited after pasting.\n",
    "\n",
    "In this example, we would parameterize the value, the regular expression and the message printed (at least the last part of the message printed).\n",
    "\n",
    "The refactored code:"
   ]
  },
  {
   "cell_type": "code",
   "execution_count": null,
   "metadata": {
    "collapsed": false
   },
   "outputs": [],
   "source": [
    "def validateValue(value, regex, type):\n",
    "    if re.compile(regex).match(value):\n",
    "        print('Valid ' + type + \": \" + value)\n",
    "    else:\n",
    "        print('ERROR: Invalid ' + type + \": \" + value)\n",
    "\n",
    "        \n",
    "def validateSsn(ssn):\n",
    "    regex_ssn='^\\d{3}-\\d{2}-\\d{4}$'\n",
    "    \n",
    "    validateValue(ssn, regex_ssn, \"SSN\")\n",
    "\n",
    "def validatePhone(phone):\n",
    "    regex_phone='^\\d{3}\\d{3}-\\d{4}$'\n",
    "\n",
    "    validateValue(phone, regex_phone, \"Phone Number\")\n",
    "\n",
    "validatePhone(\"333333-4444\")\n",
    "validatePhone(\"33333-4444\")\n",
    "validatePhone(\"1333333-4444\")\n",
    "validatePhone(\"333333-44445\")\n",
    "\n",
    "validateSsn(\"123-45-6789\")\n"
   ]
  },
  {
   "cell_type": "markdown",
   "metadata": {},
   "source": [
    "The parameters ssn and phone in the old code are now represented by value.\n",
    "\n",
    "The regular expressions <pre>/^\\d{3}-\\d{2}-\\d{4}$/ and /^\\(\\d{3}\\)\\d{3}-\\d{4}$/</pre> are represented by regex.\n",
    "\n",
    "And finally, the last part of the message ‘SSN’ and ‘Phone Number’ are represented by type.\n",
    "\n",
    "Having one function is much better than having two functions. Or worse three, four or ten functions. This keeps your code clean and maintainable.\n",
    "\n",
    "For example, if there’s a bug, you only have to fix it in one place versus searching through your whole codebase to find where this function MAY have been pasted and modified.\n",
    "\n",
    "But what happens when you have the following situation:"
   ]
  },
  {
   "cell_type": "code",
   "execution_count": null,
   "metadata": {
    "collapsed": false
   },
   "outputs": [],
   "source": [
    "\n",
    "def parseValue(value, regex, type):\n",
    "    if re.compile(regex).match(value):\n",
    "        return True\n",
    "    return False\n",
    "\n",
    "def validateValue(value, regex, type):\n",
    "    if parseValue(value, regex, type):\n",
    "        print('Valid ' + type + \": \" + value)\n",
    "    else:\n",
    "        print('ERROR: Invalid ' + type + \": \" + value)\n",
    "\n",
    "        \n",
    "def validateSsn(ssn):\n",
    "    regex_ssn='^\\d{3}-\\d{2}-\\d{4}$'\n",
    "    \n",
    "    validateValue(ssn, regex_ssn, \"SSN\")\n",
    "\n",
    "def validatePhone(phone):\n",
    "    regex_phone='^\\d{3}\\d{3}-\\d{4}$'\n",
    "\n",
    "    validateValue(phone, regex_phone, \"Phone Number\")\n",
    "\n",
    "\n",
    "'''def validateAddress(address):\n",
    "    if parseAddress(address):\n",
    "        print('Valid Address')\n",
    "    else:\n",
    "        print('Invalid Address')\n",
    "\n",
    "def validateName(name):\n",
    "    if parseFullName(name):\n",
    "        print('Valid Name')\n",
    "    else:\n",
    "        print('Invalid Name')\n",
    "'''\n",
    "\n",
    "validatePhone(\"333333-4444\")\n",
    "validatePhone(\"33333-4444\")\n",
    "validatePhone(\"1333333-4444\")\n",
    "validatePhone(\"333333-44445\")\n",
    "\n",
    "validateSsn(\"123-45-6789\")"
   ]
  },
  {
   "cell_type": "markdown",
   "metadata": {},
   "source": [
    "How do we refactor this further?\n",
    "\n",
    "Well, we can use value for address and name, and type for ‘Address’ and ‘Name’ like we did before but there’s a function where our regular expression used to be.\n",
    "\n",
    "If only we could pass a function as a parameter…\n",
    "\n",
    "## Higher-Order Functions\n",
    "\n",
    "Many languages do not support passing functions as parameters. Some do but they don’t make it easy.\n",
    "\n",
    "In Functional Programming, a function is a first-class citizen of the language. In other words, a function is just another value.\n",
    "\n",
    "Since functions are just values, we can pass them as parameters.\n",
    "\n",
    "Even though Python is not a Pure Functional language, you can do some functional operations with it. So here’s the last two functions refactored into a single function by passing the parsing function as a parameter called parseFunc:"
   ]
  },
  {
   "cell_type": "code",
   "execution_count": null,
   "metadata": {
    "collapsed": true
   },
   "outputs": [],
   "source": [
    "def validateValueWithFunc(value, parseFunc, type):\n",
    "    if parseFunc(value):\n",
    "        print('Valid ' + type + \": \" + value)\n",
    "    else:\n",
    "        print('Invalid ' + type + \": \" + value)\n",
    "\n",
    "\n",
    "def parseSsn(ssn):\n",
    "    regex_ssn='^\\d{3}-\\d{2}-\\d{4}$'\n",
    "    \n",
    "    return parseValue(ssn, regex_ssn, \"SSN\")\n",
    "\n",
    "def parsePhone(phone):\n",
    "    regex_phone='^\\(\\d{3}\\)\\d{3}-\\d{4}$'\n",
    "\n",
    "    return parseValue(phone, regex_phone, \"Phone Number\")\n",
    "    "
   ]
  },
  {
   "cell_type": "markdown",
   "metadata": {},
   "source": [
    "Our new function is called a Higher-order Function.\n",
    "\n",
    "Higher-order Functions either take functions as parameters, return functions or both.\n",
    "\n",
    "Now we can call our higher-order function for the four previous functions (this works in Javascript because Regex.exec returns a truthy value when a match is found):"
   ]
  },
  {
   "cell_type": "code",
   "execution_count": null,
   "metadata": {
    "collapsed": false
   },
   "outputs": [],
   "source": [
    "\n",
    "validateValueWithFunc('123-45-6789', parseSsn, 'SSN');\n",
    "validateValueWithFunc('(123)456-7890', parsePhone, 'Phone');\n"
   ]
  },
  {
   "cell_type": "code",
   "execution_count": null,
   "metadata": {
    "collapsed": true
   },
   "outputs": [],
   "source": [
    "This is so much better than having separate nearly identical functions.\n",
    "\n",
    "But notice the regular expressions. They’re a bit verbose. Let’s clean up our a code by factoring them out:\n",
    "\n",
    "That’s better. Now when we want to parse a phone number, we don’t have to copy and paste the regular expression.\n",
    "\n",
    "But imagine we have more regular expressions to parse, not just parseSsn and parsePhone. Each time we create a regular expression parser, we have to remember to add the .exec to the end. And trust me, this is easy to forget.\n",
    "\n",
    "We can guard against this by creating a high-order function that returns the exec function:"
   ]
  },
  {
   "cell_type": "code",
   "execution_count": null,
   "metadata": {
    "collapsed": false
   },
   "outputs": [],
   "source": [
    "def makeRegexParser(regex):\n",
    "    return re.compile(regex).match\n",
    "\n",
    "\n",
    "parseSsn = makeRegexParser('^\\d{3}-\\d{2}-\\d{4}$')\n",
    "parsePhone = makeRegexParser('^\\(\\d{3}\\)\\d{3}-\\d{4}$')\n",
    "\n",
    "validateValueWithFunc('123-45-6789', parseSsn, 'SSN');\n",
    "validateValueWithFunc('(123)456-7890', parsePhone, 'Phone');"
   ]
  },
  {
   "cell_type": "markdown",
   "metadata": {},
   "source": [
    "Here, makeRegexParser takes a regular expression and returns the exec function, which takes a string. \n",
    "\n",
    "validateValueWithFunc will pass the string, value, to the parse function, i.e. exec.\n",
    "\n",
    "parseSsn and parsePhone are effectively the same as before, the regular expression’s exec function.\n",
    "\n",
    "Granted, this is a marginal improvement but is shown here to give an example of a high-order function that returns a function.\n",
    "\n",
    "However, you can imagine the benefits of making this change if makeRegexParser was much more complex.\n",
    "\n",
    "Here’s another example of a higher-order function that returns a function:"
   ]
  },
  {
   "cell_type": "code",
   "execution_count": null,
   "metadata": {
    "collapsed": false
   },
   "outputs": [],
   "source": [
    "def makeAdder(constantValue):\n",
    "\n",
    "    def adder(value):\n",
    "        return constantValue + value\n",
    "    \n",
    "    return adder"
   ]
  },
  {
   "cell_type": "markdown",
   "metadata": {},
   "source": [
    "Here we have makeAdder that takes constantValue and returns adder, a function that will add that constant to any value it gets passed.\n",
    "\n",
    "Here’s how it can be used:"
   ]
  },
  {
   "cell_type": "code",
   "execution_count": null,
   "metadata": {
    "collapsed": false
   },
   "outputs": [],
   "source": [
    "add10 = makeAdder(10)\n",
    "\n",
    "print(add10(20))   # prints 30\n",
    "print(add10(30))   # prints 40\n",
    "print(add10(40))   # prints 50"
   ]
  },
  {
   "cell_type": "markdown",
   "metadata": {},
   "source": [
    "We create a function, add10, by passing the constant 10 to makeAdder which returns a function that will add 10 to everything.\n",
    "\n",
    "Notice that the function adder has access to constantValue even after makeAddr returns. That’s because constantValue was in its scope when adder was created.\n",
    "\n",
    "This behavior is very important because without it, functions that return functions wouldn’t be very useful. So it’s important we understand how they work and what this behavior is called.\n",
    "\n",
    "This behavior is called a Closure.\n",
    "\n",
    "## Closures\n",
    "\n",
    "Here’s a contrived example of functions that use closures:"
   ]
  },
  {
   "cell_type": "code",
   "execution_count": 91,
   "metadata": {
    "collapsed": false
   },
   "outputs": [
    {
     "data": {
      "text/plain": [
       "<cell at 0x7fbba4a7db28: str object at 0x7fbba4a83768>"
      ]
     },
     "execution_count": 91,
     "metadata": {},
     "output_type": "execute_result"
    }
   ],
   "source": [
    "def helloX():\n",
    "    heureux = 'hello'\n",
    "    \n",
    "    def toto(x):\n",
    "        return heureux + x\n",
    "    \n",
    "    return toto\n",
    "helloX().__closure__[0]"
   ]
  },
  {
   "cell_type": "code",
   "execution_count": null,
   "metadata": {
    "collapsed": true
   },
   "outputs": [],
   "source": [
    "def grandParent(g1, g2):\n",
    "    g3 = 3\n",
    "    \n",
    "    def parent(p1, p2):\n",
    "        p3 = 33\n",
    "        \n",
    "        def child(c1, c2):\n",
    "            c3 = 333\n",
    "            return g1 + g2 + g3 + p1 + p2 + p3 + c1 + c2 + c3\n",
    "        \n",
    "        return child\n",
    "    \n",
    "    return parent"
   ]
  },
  {
   "cell_type": "markdown",
   "metadata": {},
   "source": [
    "In this example, child has access to its variables, the parent’s variables and the grandParent’s variables.\n",
    "\n",
    "The parent has access to its variables and grandParent’s variables.\n",
    "\n",
    "The grandParent only has access to its variables.\n",
    "(See pyramid above for clarification.)\n",
    "\n",
    "Here’s an example of its use:"
   ]
  },
  {
   "cell_type": "code",
   "execution_count": null,
   "metadata": {
    "collapsed": false
   },
   "outputs": [],
   "source": [
    "parentFunc = grandParent(1, 2)   #  returns parent()\n",
    "childFunc = parentFunc(11, 22)   #  returns child()\n",
    "\n",
    "print(childFunc(111, 222))       # prints 738\n",
    "\n",
    "# 1 + 2 + 3 + 11 + 22 + 33 + 111 + 222 + 333 == 738"
   ]
  },
  {
   "cell_type": "markdown",
   "metadata": {},
   "source": [
    "Here, parentFunc keeps the parent’s scope alive since grandParent returns parent.\n",
    "\n",
    "Similarly, childFunc keeps the child’s scope alive since parentFunc, which is just parent, returns child.\n",
    "\n",
    "When a function is created, all of the variables in its scope at the time of creation are accessible to it for the lifetime of the function. A function exists as long as there still a reference to it. For example, child’s scope exists as long as childFunc still references it.\n",
    "\n",
    "A closure is a function’s scope that’s kept alive by a reference to that function.\n",
    "\n",
    "Note that in Javascript, closures are problematic since the variables are mutable, i.e. they can change values from the time they were closed over to the time the returned function is called.\n",
    "\n",
    "Thankfully, variables in Functional Languages are Immutable eliminating this common source of bugs and confusion."
   ]
  },
  {
   "cell_type": "code",
   "execution_count": null,
   "metadata": {
    "collapsed": true
   },
   "outputs": [],
   "source": []
  },
  {
   "cell_type": "markdown",
   "metadata": {},
   "source": [
    "# Part3\n",
    "<a href=\"#TOP\"> TOP </a>\n",
    "\n",
    "\n",
    "## Function Composition\n",
    "\n",
    "As programmers, we are lazy. We don’t want to build, test and deploy code that we’ve written over and over and over again.\n",
    "\n",
    "We’re always trying to figure out ways of doing the work once and how we can reuse it to do something else.\n",
    "\n",
    "Code reuse sounds great but is difficult to achieve. Make the code too specific and you can’t reuse it. Make it too general and it can be too difficult to use in the first place.\n",
    "\n",
    "So what we need is a balance between the two, a way to make smaller, reusable pieces that we can use as building blocks to construct more complex functionality.\n",
    "\n",
    "In Functional Programming, functions are our building blocks. We write them to do very specific tasks and then we put them together like Lego™ blocks.\n",
    "\n",
    "This is called Function Composition.\n",
    "\n",
    "So how does it work? Let’s start with two Javascript functions:"
   ]
  },
  {
   "cell_type": "code",
   "execution_count": null,
   "metadata": {
    "collapsed": false
   },
   "outputs": [],
   "source": [
    "add10 = lambda value:  value + 10\n",
    "mult5 = lambda value:  value * 5\n",
    "\n",
    "print( add10(5) )\n",
    "print( mult5(5) )"
   ]
  },
  {
   "cell_type": "markdown",
   "metadata": {},
   "source": [
    "Now let’s imagine that we also want to have a function that takes a value and adds 10 to it and then multiplies the result by 5. We could write:"
   ]
  },
  {
   "cell_type": "code",
   "execution_count": null,
   "metadata": {
    "collapsed": false
   },
   "outputs": [],
   "source": [
    "!pip install compose-func"
   ]
  },
  {
   "cell_type": "code",
   "execution_count": null,
   "metadata": {
    "collapsed": false
   },
   "outputs": [],
   "source": [
    "import compose\n",
    "\n",
    "mult5AfterAdd10 = compose.compose(mult5, add10)\n",
    "\n",
    "mult5AfterAdd10(5)"
   ]
  },
  {
   "cell_type": "markdown",
   "metadata": {
    "collapsed": true
   },
   "source": [
    "\n",
    "We just used existing functions to create mult5AfterAdd10, but there’s a better way.\n",
    "\n",
    "In math, f ∘ g is functional composition and is read “f composed with g” or, more commonly, “f after g”. So (f ∘ g)(x) is equivalent to calling f after calling g with x or simply, f(g(x)).\n",
    "\n",
    "In our example, we have mult5 ∘ add10 or “mult5 after add10”, hence the name of our function, mult5AfterAdd10.\n",
    "\n",
    "And that’s exactly what we did. We called mult5 after we called add10 with value or simply, mult5(add10(value)).\n",
    "\n",
    "First, value is passed to add10 then its results are passed to mult5.\n",
    "\n",
    "Here x is passed to function t whose result is passed to r whose result is passed to s and so on. If you did something similar in Javascript it would look like g(h(s(r(t(x))))), a parenthetical nightmare\n",
    "\n",
    "## Point-Free Notation\n",
    "\n",
    "There is a style of writing functions without having to specify the parameters called Point-Free Notation. At first, this style will seem odd but as you continue, you’ll grow to appreciate the brevity.\n",
    "\n",
    "*Not possible in Python*\n",
    "\n",
    "In mult5AfterAdd10, you’ll notice that value is specified twice. Once in the parameter list and once when it’s used.\n",
    "\n",
    "```\n",
    "-- This is a function that expects 1 parameter\n",
    "mult5AfterAdd10 value =\n",
    "    (mult5 << add10) value\n",
    "```\n",
    "\n",
    "But this parameter is unnecessary since add10, the rightmost function in the composition, expects the same parameter. The following point-free version is equivalent:\n",
    "\n",
    "```-- This is also a function that expects 1 parameter\n",
    "mult5AfterAdd10 =\n",
    "    (mult5 << add10)\n",
    "```\n",
    "\n",
    "There are many benefits from using the point-free version.\n",
    "\n",
    "First, we don’t have to specify redundant parameters. And since we don’t have to specify them, we don’t have to think up names for all of them.\n",
    "\n",
    "Second, it’s easier to read and reason about since it’s less verbose. This example is simple, but imagine a function that took more parameters.\n",
    "\n",
    "### Trouble in Paradise\n",
    "\n",
    "So far we’ve seen how Function Composition works and how we should specify our functions in Point-Free Notation for brevity, clarity and flexibility.\n",
    "\n",
    "Now, let’s try to use these ideas in a slightly different scenario and see how they fare. Imagine we replace add10 with add:\n",
    "```\n",
    "add x y =\n",
    "    x + y\n",
    "mult5 value =\n",
    "    value * 5\n",
    "```\n",
    "\n",
    "How do we write mult5After10 with just these 2 functions?\n",
    "\n",
    "Think about it for a bit before reading on. No seriously. Think about. Try and do it.\n",
    "\n",
    "Okay, so if you actually spent time thinking about it, you may have come up with a solution like:\n",
    "\n",
    "```-- This is wrong !!!!\n",
    "mult5AfterAdd10 =\n",
    "    (mult5 << add) 10 \n",
    "```\n",
    "\n",
    "But this wouldn’t work. Why? Because add takes 2 parameters.\n",
    "\n",
    "If this isn’t obvious in Elm, try to write this in Javascript:\n",
    "```\n",
    "var mult5AfterAdd10 = mult5(add(10)); // this doesn't work\n",
    "```\n",
    "\n",
    "This code is wrong but why?\n",
    "\n",
    "Because the add function is only getting 1 of its 2 parameters here then its incorrect results are passed to mult5. This will produce the wrong results.\n",
    "\n",
    "In fact, in Elm, the compiler won’t even let you write such mis-formed code (which is one of the great things about Elm).\n",
    "\n",
    "Let’s try again:\n",
    "\n",
    "```var mult5AfterAdd10 = y => mult5(add(10, y)); // not point-free\n",
    "```\n",
    "\n",
    "This isn’t point-free but I could probably live with this. But now I’m no longer just combining functions. I’m writing a new function. Also, if this gets more complicated, e.g. if I want to compose mult5AfterAdd10 with something else, I’m \n",
    "going to get into real trouble.\n",
    "\n",
    "So it would appear that Function Composition has limited usefulness since we cannot marry these two functions. That’s too bad since it’s so powerful.\n",
    "\n",
    "How could we solve this? What would we need to make this problem go away?\n",
    "\n",
    "Well, what would be really great is if we had some way of giving our add function only one of its parameters ahead of time and then it would get its second parameter later when mult5AfterAdd10 is called.\n",
    "\n",
    "Turns out there is way and it’s called Currying."
   ]
  },
  {
   "cell_type": "markdown",
   "metadata": {
    "collapsed": true
   },
   "source": [
    "# Part4\n",
    "<a href=\"#TOP\"> TOP </a>\n",
    "\n",
    "\n",
    "## Currying\n",
    "\n",
    "If you remember from Part 3, the reason that we were having problems composing mult5 and add (in ) is because mult5 takes 1 parameter and add takes 2.\n",
    "\n",
    "We can solve this easily by just restricting all functions to take only 1 parameter.\n",
    "\n",
    "Trust me. It’s not as bad as it sounds.\n",
    "\n",
    "We simply write an add function that uses 2 parameters but only takes 1 parameter at a time. Curried functions allow us to do this.\n",
    "\n",
    "A Curried Function is a function that only takes a single parameter at a time.\n",
    "\n",
    "This will let us give add its first parameter before we compose it with mult5. Then when mult5AfterAdd10 is called, add will get its second parameter.\n",
    "\n",
    "In Javascript, we can accomplish this by rewriting add:\n",
    "```\n",
    "var add = x => y => x + y\n",
    "```\n",
    "\n",
    "This version of add is a function that takes one parameter now and then another one later.\n",
    "\n",
    "In detail, the add function takes a single parameter, x, and returns a function that takes a single parameter, y, which will ultimately return the result of adding x and y.\n",
    "\n",
    "Now we can use this version of add to build a working version of mult5AfterAdd10:\n",
    "```\n",
    "var compose = (f, g) => x => f(g(x));\n",
    "var mult5AfterAdd10 = compose(mult5, add(10));\n",
    "```\n",
    "\n",
    "The compose function takes 2 parameters, f and g. Then it returns a function that takes 1 parameter, x, which when called will apply f after g to x.\n",
    "\n",
    "So what did we do exactly? Well, we converted our plain old add function into a curried version. This made add more flexible since the first parameter, 10, can be passed to it up front and the final parameter will be passed when mult5AfterAdd10 is called.\n",
    "\n",
    "At this point, you may be wondering how to rewrite the add function in Elm. Turns out, you don’t have to. In Elm and other Functional Languages, all functions are curried automatically.\n",
    "\n",
    "So the add function looks the same:\n",
    "```\n",
    "add x y =\n",
    "    x + y\n",
    "```\n",
    "\n",
    "This is how mult5AfterAdd10 should have been written back in Part 3:\n",
    "```\n",
    "mult5AfterAdd10 =\n",
    "    (mult5 << add 10)\n",
    "```\n",
    "\n",
    "Syntactically speaking, Elm beats Imperative Languages like Javascript because it’s been optimized for Functional things like currying and composition.\n",
    "\n",
    "## Currying and Refactoring\n",
    "\n",
    "Another time currying shines is during refactoring when you create a generalized version of a function with lots of parameters and then use it to create specialized versions with fewer parameters.\n",
    "\n",
    "For example, when we have the following functions that put brackets and double brackets around strings:\n",
    "\n",
    "```\n",
    "bracket str =\n",
    "    \"{\" ++ str ++ \"}\"\n",
    "doubleBracket str =\n",
    "    \"{{\" ++ str ++ \"}}\"\n",
    "```\n",
    "\n",
    "Here’s how we’d use it:\n",
    "```\n",
    "bracketedJoe =\n",
    "    bracket \"Joe\"\n",
    "doubleBracketedJoe =\n",
    "    doubleBracket \"Joe\"\n",
    "```\n",
    "\n",
    "We can generalize bracket and doubleBracket:\n",
    "```\n",
    "generalBracket prefix str suffix =\n",
    "    prefix ++ str ++ suffix\n",
    "```\n",
    "\n",
    "But now every time we use generalBracket we have to pass in the brackets:\n",
    "```\n",
    "bracketedJoe =\n",
    "    generalBracket \"{\" \"Joe\" \"}\"\n",
    "doubleBracketedJoe =\n",
    "    generalBracket \"{{\" \"Joe\" \"}}\"\n",
    "```\n",
    "\n",
    "What we really want is the best of both worlds.\n",
    "\n",
    "If we reorder the parameters of generalBracket, we can create bracket and doubleBracket by leveraging the fact that functions are curried:\n",
    "\n",
    "```\n",
    "generalBracket prefix suffix str =\n",
    "    prefix ++ str ++ suffix\n",
    "bracket =\n",
    "    generalBracket \"{\" \"}\"\n",
    "doubleBracket =\n",
    "    generalBracket \"{{\" \"}}\"\n",
    "```\n",
    "\n",
    "Notice that by putting the parameters that were most likely to be static first, i.e. prefix and suffix, and putting the parameters that were most likely to change last, i.e. str, we can easily create specialized versions of generalBracket.\n",
    "\n",
    "Parameter order is important to fully leverage currying.\n",
    "\n",
    "Also, notice that bracket and doubleBracket are written in point-free notation, i.e. the str parameter is implied. Both bracket and doubleBracket are functions waiting for their final parameter.\n",
    "\n",
    "Now we can use it just like before:\n",
    "```\n",
    "bracketedJoe =\n",
    "    bracket \"Joe\"\n",
    "doubleBracketedJoe =\n",
    "    doubleBracket \"Joe\"\n",
    "```\n",
    "\n",
    "But this time we’re using a generalized curried function, generalBracket.\n",
    "\n",
    "## Common Functional Functions\n",
    "\n",
    "Let’s look at 3 common functions that are used in Functional Languages.\n",
    "\n",
    "But first, let’s look at the following Javascript code:\n",
    "```\n",
    "for (var i = 0; i < something.length; ++i) {\n",
    "    // do stuff\n",
    "}\n",
    "```\n",
    "\n",
    "There’s one major thing wrong with this code. It’s not a bug. The problem is that this code is boilerplate code, i.e. code that is written over and over again.\n",
    "\n",
    "If you code in Imperative Languages like Java, C#, Javascript, PHP, Python, etc., you’ll find yourself writing this boilerplate code more than any other.\n",
    "\n",
    "That’s what’s wrong with it.\n",
    "\n",
    "So let’s kill it. Let’s put it in a function (or a couple of functions) and never write a for-loop again. Well, almost never; at least until we move to a Functional Language.\n",
    "\n",
    "Let’s start with modifying an array called things:\n",
    "```\n",
    "var things = [1, 2, 3, 4];\n",
    "for (var i = 0; i < things.length; ++i) {\n",
    "    things[i] = things[i] * 10; // MUTATION ALERT !!!!\n",
    "}\n",
    "print(things); // [10, 20, 30, 40]\n",
    "```\n",
    "\n",
    "#### UGH!! Mutability!\n",
    "\n",
    "Let’s try that again. This time we won’t mutate things:\n",
    "```\n",
    "var things = [1, 2, 3, 4];\n",
    "var newThings = [];\n",
    "for (var i = 0; i < things.length; ++i) {\n",
    "    newThings[i] = things[i] * 10;\n",
    "}\n",
    "print(newThings); // [10, 20, 30, 40]\n",
    "```\n",
    "\n",
    "Okay, so we didn’t mutate things but technically we mutated newThings. For now, we’re going to overlook this. We are in \n",
    "Javascript after all. Once we move to a Functional Language, we won’t be able to mutate.\n",
    "\n",
    "The point here is to understand how these functions work and help us to reduce noise in our code.\n",
    "\n",
    "Let’s take this code and put it in a function. We’re going to call our first common function map since it maps each value in the old array to new values in the new array:\n",
    "```\n",
    "var map = (f, array) => {\n",
    "    var newArray = [];\n",
    "    for (var i = 0; i < array.length; ++i) {\n",
    "        newArray[i] = f(array[i]);\n",
    "    }\n",
    "    return newArray;\n",
    "};\n",
    "```\n",
    "\n",
    "Notice the function, f, is passed in so that our map function can do anything we want to each item of the array.\n",
    "\n",
    "Now we can call rewrite our previous code to use map:\n",
    "```\n",
    "var things = [1, 2, 3, 4];\n",
    "var newThings = map(v => v * 10, things);\n",
    "```\n",
    "\n",
    "Look ma. No for-loops. And much easier to read and therefore reason about.\n",
    "\n",
    "Well, technically, there are for-loops in the map function. But at least we don’t have to write that boilerplate code anymore.\n",
    "\n",
    "Now let’s write another common function to filter things from an array:\n",
    "```\n",
    "var filter = (pred, array) => {\n",
    "    var newArray = [];\n",
    "for (var i = 0; i < array.length; ++i) {\n",
    "        if (pred(array[i]))\n",
    "            newArray[newArray.length] = array[i];\n",
    "    }\n",
    "    return newArray;\n",
    "};\n",
    "```\n",
    "\n",
    "Notice how the predicate function, pred, returns TRUE if we keep the item or FALSE if we toss it.\n",
    "\n",
    "Here’s how to use filter to filter odd numbers:\n",
    "```\n",
    "var isOdd = x => x % 2 !== 0;\n",
    "var numbers = [1, 2, 3, 4, 5];\n",
    "var oddNumbers = filter(isOdd, numbers);\n",
    "print(oddNumbers); // [1, 3, 5]\n",
    "```\n",
    "\n",
    "Using our new filter function is so much simpler than hand-coding it with a for-loop.\n",
    "\n",
    "The final common function is called reduce. Typically, it’s used to take a list and reduce it to a single value but it can actually do so much more.\n",
    "\n",
    "This function is usually called fold in Functional Languages.\n",
    "```\n",
    "var reduce = (f, start, array) => {\n",
    "    var acc = start;\n",
    "    for (var i = 0; i < array.length; ++i)\n",
    "        acc = f(array[i], acc); // f() takes 2 parameters\n",
    "    return acc;\n",
    "});\n",
    "```\n",
    "The reduce function takes a reduction function, f, an initial start value and an array.\n",
    "\n",
    "Notice that the reduction function, f, takes 2 parameters, the current item of the array, and the accumulator, acc. It will use these parameters to produce a new accumulator each iteration. The accumulator from the final iteration is returned.\n",
    "\n",
    "An example will help us understand how it works:\n",
    "```\n",
    "var add = (x, y) => x + y;\n",
    "var values = [1, 2, 3, 4, 5];\n",
    "var sumOfValues = reduce(add, 0, values);\n",
    "print(sumOfValues); // 15\n",
    "```\n",
    "\n",
    "Notice that the add function takes 2 parameters and adds them. Our reduce function expects a function that takes 2 parameters so they work well together.\n",
    "\n",
    "We start with a start value of zero and pass in our array, values, to be summed. Inside the reduce function, the sum is accumulated as it iterates over values. The final accumulated value is returned as sumOfValues.\n",
    "\n",
    "Each of these functions, map, filter and reduce let us do common manipulation operations on arrays without having to write boilerplate for-loops.\n",
    "\n",
    "But in Functional Languages, they are even more useful since there are no loop constructs just recursion.\n",
    "\n",
    "Iteration functions aren’t just extremely helpful. They’re necessary.\n",
    "\n"
   ]
  },
  {
   "cell_type": "markdown",
   "metadata": {},
   "source": []
  },
  {
   "cell_type": "code",
   "execution_count": null,
   "metadata": {
    "collapsed": true
   },
   "outputs": [],
   "source": []
  },
  {
   "cell_type": "markdown",
   "metadata": {
    "collapsed": true
   },
   "source": [
    "# Part5\n",
    "<a href=\"#TOP\"> TOP </a>\n",
    "\n",
    "## Referential Transparency\n",
    "\n",
    "Referential Transparency is a fancy term to describe that a pure function can safely be replaced by its expression. An example will help illustrate this.\n",
    "\n",
    "In Algebra when you had the following formula:\n",
    "```\n",
    "y = x + 10\n",
    "```\n",
    "And were told:\n",
    "```\n",
    "x = 3\n",
    "```\n",
    "You could substituted x back into the equation to get:\n",
    "```\n",
    "y = 3 + 10\n",
    "```\n",
    "Notice that the equation is still valid. We can do the same kind of substitution with pure functions.\n",
    "\n",
    "Here’s a function in Elm that puts single quotes around the supplied string:\n",
    "```\n",
    "quote str =\n",
    "    \"'\" ++ str ++ \"'\"\n",
    "```\n",
    "\n",
    "And here’s some code that uses it:\n",
    "```\n",
    "findError key =\n",
    "    \"Unable to find \" ++ (quote key)\n",
    "```\n",
    "\n",
    "Here findError builds an error message when a search for key is unsuccessful.\n",
    "\n",
    "Since the quote function is pure, we can simply replace the function call in findError with the body of the quote function (which is just an expression):\n",
    "\n",
    "```\n",
    "findError key =\n",
    "   \"Unable to find \" ++ (\"'\" ++ str ++ \"'\")\n",
    "```\n",
    "\n",
    "This is what I call Reverse Refactoring (which makes more sense to me), a process that can be used by programmers or programs (e.g. compilers and test programs) to reason about code.\n",
    "\n",
    "This can be especially helpful when reasoning about recursive functions.\n",
    "\n",
    "## Execution Order\n",
    "\n",
    "Most programs are single-threaded, i.e. one and only one piece of code is being executed at a time. Even if you have a multithreaded program, most of the threads are blocked waiting for I/O to complete, e.g. file, network, etc.\n",
    "\n",
    "This is one reason why we naturally think in terms of ordered steps when we write code:\n",
    "1. Get out the bread\n",
    "2. Put 2 slices into the toaster\n",
    "3. Select darkness\n",
    "4. Push down the lever\n",
    "5. Wait for toast to pop up\n",
    "6. Remove toast\n",
    "7. Get out the butter\n",
    "8. Get a butter knife\n",
    "9. Butter toast\n",
    "\n",
    "In this example, there are two independent operations: getting butter and toasting bread. They only become interdependent at step 9.\n",
    "\n",
    "We could do steps 7 and 8 concurrently with steps 1 through 6 since they are independent from one another.\n",
    "\n",
    "But the minute we do this, things get complicated:\n",
    "\n",
    "Thread 1\n",
    "--------\n",
    "1. Get out the bread\n",
    "2. Put 2 slices into the toaster\n",
    "3. Select darkness\n",
    "4. Push down the lever\n",
    "5. Wait for toast to pop up\n",
    "6. Remove toast\n",
    "\n",
    "Thread 2\n",
    "--------\n",
    "1. Get out the butter\n",
    "2. Get a butter knife\n",
    "3. Wait for Thread 1 to complete\n",
    "4. Butter toast\n",
    "\n",
    "What happens to Thread 2 if Thread 1 fails? What is the mechanism to coordinate both threads? Who owns the toast:\n",
    "\n",
    "Thread 1, Thread 2 or both?\n",
    "\n",
    "It’s easier to not think about these complexities and leave our program single threaded.\n",
    "\n",
    "But when it’s worth squeezing out every possible efficiency of our program, then we must take on the monumental effort to write multithreading software.\n",
    "\n",
    "However, there are 2 main problems with multithreading. First, multithreaded programs are difficult to write, read, reason about, test and debug.\n",
    "\n",
    "Second, some languages, e.g. Javascript, don’t support multithreading and those that do, support it badly.\n",
    "\n",
    "But what if order didn’t matter and everything was executed in parallel?\n",
    "\n",
    "While this sounds crazy, it’s not as chaotic as it sounds. Let’s look at some Elm code to illustrate this:\n",
    "\n",
    "```\n",
    "buildMessage message value =\n",
    "    let\n",
    "        upperMessage =\n",
    "            String.toUpper message\n",
    "        quotedValue =\n",
    "            \"'\" ++ value \"'\"\n",
    "    in\n",
    "        upperMessage ++ \": \" ++ value\n",
    "```\n",
    "\n",
    "Here buildMessage takes message and value then produces an uppercased message, a colon and value in single quotes.\n",
    "\n",
    "Notice how upperMessage and quotedValue are independent. How do we know this?\n",
    "\n",
    "There are 2 things that must be true for independence. First, they must be pure functions. This is important because they must not be affected by the execution of the other.\n",
    "\n",
    "If they were not pure, then we could never know that they’re independent. In that case, we’d have to rely on the order that they were called in the program to determine their execution order. This is how all Imperative Languages work.\n",
    "\n",
    "The second thing that must be true for independence is that the output of one function is not used as the input of the other. If this was the case, then we’d have to wait for one to finish before starting the second.\n",
    "\n",
    "In this case, upperMessage and quotedValue are both pure and neither requires the output of the other.\n",
    "\n",
    "Therefore, these 2 functions can be executed in ANY ORDER.\n",
    "\n",
    "The compiler can make this determination without any help from the programmer. This is only possible in a Pure  Functional Language because it’s very difficult, if not impossible, to determine the ramifications of side-effects.\n",
    "\n",
    "The order of execution in a Pure Functional Language can be determined by the compiler.\n",
    "\n",
    "This is extremely advantageous considering that CPUs are not getting faster. Instead, manufactures are adding more and more cores. This means that code can execute in parallel at the hardware level.\n",
    "\n",
    "Unfortunately, with Imperative Languages, we cannot take full advantage of these cores except at a very coarse level. \n",
    "\n",
    "But to do so requires drastically changing the architecture of our programs.\n",
    "\n",
    "With Pure Functional Languages, we have the potential to take advantage of the CPU cores at a fine grained level automatically without changing a single line of code.\n",
    "\n",
    "## Type Annotations\n",
    "\n",
    "In Statically Typed Languages, types are defined inline. Here’s some Java code to illustrate:\n",
    "```\n",
    "public static String quote(String str) {\n",
    "    return \"'\" + str + \"'\";\n",
    "}\n",
    "```\n",
    "\n",
    "Notice how the typing is inline with the function definition. It gets even worse when you have generics:\n",
    "\n",
    "```\n",
    "private final Map<Integer, String> getPerson(Map<String, String> people, Integer personId) {\n",
    "   // ...\n",
    "}\n",
    "```\n",
    "\n",
    "I’ve bolded the types which makes them stand out but they still interfere with the function definition. You have to read it carefully to find the names of the variables.\n",
    "\n",
    "With Dynamically Typed Languages, this is not a problem. In Javascript, we can write code like:\n",
    "\n",
    "```\n",
    "var getPerson = function(people, personId) {\n",
    "    // ...\n",
    "};\n",
    "```\n",
    "\n",
    "This is so much easier to read without all of that nasty type information getting in the way. The only problem is that we give up the safety of typing. We could easily pass in these parameters backwards, i.e. a Number for people and an \n",
    "Object for personId.\n",
    "\n",
    "We wouldn’t find out until the program executed, which could be months after we put it into production. This would not be the case in Java since it wouldn’t compile.\n",
    "\n",
    "But what if we could have the best of both worlds. The syntactical simplicity of Javascript with the safety of Java.\n",
    "\n",
    "It turns out that we can. Here’s a function in Elm with Type Annotations:\n",
    "```\n",
    "add : Int -> Int -> Int\n",
    "add x y =\n",
    "    x + y\n",
    "```\n",
    "\n",
    "Notice how the type information is on a separate line. This separation makes a world of difference.\n",
    "\n",
    "Now you may think that the type annotation has a typo. I know I did when I first saw it. I thought that the first -> should be a comma. But there’s no typo.\n",
    "\n",
    "When you see it with the implied parentheses it makes a bit more sense:\n",
    "```\n",
    "add : Int -> (Int -> Int)\n",
    "```\n",
    "\n",
    "This says that add is a function that takes a single parameter of type Int and returns a function that takes a single parameter Int and returns an Int.\n",
    "\n",
    "Here’s another type annotation with the implied parentheses shown:\n",
    "\n",
    "```\n",
    "doSomething : String -> (Int -> (String -> String))\n",
    "doSomething prefix value suffix =\n",
    "    prefix ++ (toString value) ++ suffix\n",
    "```\n",
    "\n",
    "This says that doSomething is a function that takes a single parameter of type String and returns a function that takes a single parameter of type Int and returns a function that takes a single parameter of type String and returns a String.\n",
    "\n",
    "Notice how everything takes a single parameter. That’s because every function is curried in Elm.\n",
    "\n",
    "Since parentheses are always implied to the right, they are not necessary. So we can simply write:\n",
    "```\n",
    "doSomething : String -> Int -> String -> String\n",
    "```\n",
    "\n",
    "Parentheses are necessary when we pass functions as parameters. Without them, the type annotation would be ambiguous. \n",
    "\n",
    "For example:\n",
    "```\n",
    "takes2Params : Int -> Int -> String\n",
    "takes2Params num1 num2 =\n",
    "    -- do something\n",
    "```\n",
    "\n",
    "is very different from:\n",
    "```\n",
    "takes1Param : (Int -> Int) -> String\n",
    "takes1Param f =\n",
    "    -- do something\n",
    "```\n",
    "\n",
    "takes2Param is a function that requires 2 parameters, an Int and another Int. Whereas, takes1Param requires 1 parameters a function that takes an Int and another Int.\n",
    "\n",
    "Here’s the type annotation for map:\n",
    "```\n",
    "map : (a -> b) -> List a -> List b\n",
    "map f list =\n",
    "    // ...\n",
    "```\n",
    "\n",
    "Here parentheses are required because f is of type (a -> b), i.e. a function that takes a single parameter of type a and returns something of type b.\n",
    "\n",
    "Here type a is any type. When a type is uppercased, it’s an explicit type, e.g. String. When a type is lowercased, it can be any type. Here a can be String but it could also be Int.\n",
    "\n",
    "If you see (a -> a) then that says that the input type and the output type MUST be the same. It doesn’t matter what they are but they must match.\n",
    "\n",
    "But in the case of map, we have (a -> b). That means that it CAN return a different type but it COULD also return the same type.\n",
    "\n",
    "But once the type for a is determined, a must be that type for the whole signature. For example, if a is Int and b is String then the signature is equivalent to:\n",
    "\n",
    "```\n",
    "(Int -> String) -> List Int -> List String\n",
    "```\n",
    "\n",
    "Here all of the a’s have been replaced with Int and all of the b’s have been replaced with String.\n",
    "\n",
    "The List Int type means that a list contains Ints and List String means that a list contains Strings. If you’ve used generics in Java or other languages then this concept should be familiar.\n",
    "\n"
   ]
  },
  {
   "cell_type": "markdown",
   "metadata": {},
   "source": []
  },
  {
   "cell_type": "code",
   "execution_count": null,
   "metadata": {
    "collapsed": true
   },
   "outputs": [],
   "source": []
  },
  {
   "cell_type": "markdown",
   "metadata": {
    "collapsed": true
   },
   "source": [
    "# Part6\n",
    "<a href=\"#TOP\"> TOP </a>\n",
    "\n",
    "## Now What?\n",
    "\n",
    "Now that you’ve learned all this great new stuff, you’re probably thinking, “Now what? How can I use this in my everyday programming?”\n",
    "\n",
    "It depends. If you can program in a Pure Functional Language like Elm or Haskell, then you can leverage all of these ideas. And these languages make it easy to do so.\n",
    "\n",
    "If you can only program in an Imperative Language like Javascript, as many of us must, then you can still use a lot of what you’ve learned but there will be a great deal more discipline required.\n",
    "\n",
    "\n",
    "## Functional Javascript\n",
    "\n",
    "Javascript has many features that let you program in a more functional manner. It’s not pure but you can get some immutability in the language and even more with libraries.\n",
    "\n",
    "It’s not ideal, but if you have to use it, then why not gain some of the benefits of a Functional Language?\n",
    "\n",
    "## Immutability\n",
    "\n",
    "The first thing to consider is immutability. In ES2015, or ES6 as it was called, there is a new keyword called const. \n",
    "\n",
    "This means that once a variable is set, it cannot be reset:\n",
    "```\n",
    "const a = 1;\n",
    "a = 2; // this will throw a TypeError in Chrome, Firefox or Node\n",
    "       // but not in Safari (circa 10/2016)\n",
    "```\n",
    "\n",
    "Here a is defined to be a constant and therefore cannot be changed once set. This is why a = 2 throws an exception (except for Safari).\n",
    "\n",
    "The problem with const in Javascript is that it doesn’t go far enough. The following example illustrates its limits:\n",
    "\n",
    "```\n",
    "const a = {\n",
    "    x: 1,\n",
    "    y: 2\n",
    "};\n",
    "a.x = 2; // NO EXCEPTION!\n",
    "a = {}; // this will throw a TypeError\n",
    "```\n",
    "\n",
    "Notice how a.x = 2 does NOT throw an exception. The only thing that’s immutable with the const keyword is the variable a. Anything that a points to can be mutated.\n",
    "\n",
    "This is terribly disappointing because it would have made Javascript so much better.\n",
    "\n",
    "So how do we get immutability in Javascript?\n",
    "\n",
    "Unfortunately, we can only do so via a library called Immutable.js. This may give us better immutability but sadly, it does so in a way that makes our code look more like Java than Javascript.\n",
    "\n",
    "## Currying and Composition\n",
    "\n",
    "Earlier in this series, we learned how to write functions that are curried. Here’s a more complex example:\n",
    "\n",
    "```\n",
    "const f = a => b => c => d => a + b + c + d\n",
    "```\n",
    "\n",
    "Notice that we had to write the currying part by hand.\n",
    "\n",
    "And to call f, we have to write:\n",
    "\n",
    "```\n",
    "print(f(1)(2)(3)(4)); // prints 10\n",
    "```\n",
    "\n",
    "But that’s enough parentheses to make a Lisp programmer cry.\n",
    "\n",
    "There are many libraries which make this process easier. My favorite one is Ramda.\n",
    "\n",
    "Using Ramda we can now write:\n",
    "\n",
    "```\n",
    "const f = R.curry((a, b, c, d) => a + b + c + d);\n",
    "print(f(1, 2, 3, 4)); // prints 10\n",
    "print(f(1, 2)(3, 4)); // also prints 10\n",
    "print(f(1)(2)(3, 4)); // also prints 10\n",
    "```\n",
    "\n",
    "The function definition isn’t much better but we’ve eliminated the need for all those parenthesis. Notice that we can apply as many or as few parameters as we want each time we invoke f.\n",
    "\n",
    "By using Ramda, we can rewrite the mult5AfterAdd10 function from Part 3 and Part 4:\n",
    "\n",
    "```\n",
    "const add = R.curry((x, y) => x + y);\n",
    "const mult5 = value => value * 5;\n",
    "const mult5AfterAdd10 = R.compose(mult5, add(10));\n",
    "```\n",
    "\n",
    "It turns out that Ramda has a lot of helper functions for doing these sorts of things, e.g. R.add and R.multiply, which means we can write less code:\n",
    "\n",
    "```\n",
    "const mult5AfterAdd10 = R.compose(R.multiply(5), R.add(10));\n",
    "```\n",
    "\n",
    "## Map, Filter and Reduce\n",
    "\n",
    "Ramda also has its own versions of map, filter and reduce. Although these functions exist in Array.prototype in vanilla Javascript, Ramda’s versions are curried:\n",
    "\n",
    "```\n",
    "const isOdd = R.flip(R.modulo)(2);\n",
    "const onlyOdd = R.filter(isOdd);\n",
    "const isEven = R.complement(isOdd);\n",
    "const onlyEven = R.filter(isEven);\n",
    "const numbers = [1, 2, 3, 4, 5, 6, 7, 8];\n",
    "print(onlyEven(numbers)); // prints [2, 4, 6, 8]\n",
    "print(onlyOdd(numbers)); // prints [1, 3, 5, 7]\n",
    "```\n",
    "\n",
    "R.modulo takes 2 parameters. The first is the dividend (what’s being divided) and the second is the divisor (what we’re dividing by).\n",
    "\n",
    "The isOdd function is just the remainder of dividing by 2. A remainder of 0 is falsy, not odd, and a remainder of 1 is truthy, odd. We flipped the first and second parameters of modulo so that we could specify 2 as the divisor.\n",
    "\n",
    "The isEven function is just the complement of isOdd.\n",
    "\n",
    "The onlyOdd function is the filter function with the predicate (a function that returns a boolean) of isOdd. It’s waiting for the list of numbers, its final parameter, before it executes.\n",
    "\n",
    "The onlyEven function is a filter that uses isEven as its predicate.\n",
    "When we pass numbers to onlyEven and onlyOdd, isEven and isOdd get their final parameters and can finally execute returning the numbers we’d expect.\n",
    "\n",
    "## Javascript Shortcomings\n",
    "\n",
    "With all of the libraries and language enhancements that have gotten Javascript this far, it still suffers from the fact that it’s an Imperative Language that’s trying to be all things to all people.\n",
    "\n",
    "Most front end developers are stuck using Javascript in the browser because it’s been the only choice for so long. But many developers are now moving away from writing Javascript directly.\n",
    "\n",
    "Instead, they are writing in a different language and compiling, or more accurately, transpiling to Javascript.\n",
    "\n",
    "CoffeeScript was one of the first of these languages. And now, Typescript has been adopted by Angular 2. Babel can also be considered a transpiler for Javascript.\n",
    "\n",
    "More and more people are taking this approach in production.\n",
    "\n",
    "But these languages started with Javascript and only made it slightly better. Why not go all the way and transpile to Javascript from a Pure Functional Language?\n",
    "\n",
    "## Elm\n",
    "\n",
    "In this series, we’ve looked at Elm to help understand Functional Programming.\n",
    "\n",
    "But what is Elm? And how can I use it?\n",
    "\n",
    "Elm is a Pure Functional Language that compiles to Javascript so you can use it to create Web Applications using The Elm Architecture, aka TEA (this architecture inspired the developers of Redux).\n",
    "\n",
    "Elm programs do NOT have any Runtime Errors.\n",
    "\n",
    "Elm is being used in production at companies such as NoRedInk, where Evan Czapliki the creator of Elm now works (he previously worked for Prezi).\n",
    "\n",
    "See this talk, 6 Months of Elm in Production, by Richard Feldman from NoRedInk and Elm evangelist for more information.\n",
    "\n",
    "Do I have to replace all of my Javascript with Elm?\n",
    "\n",
    "No. You can incrementally replace parts. See this blog entry, How to use Elm at Work, to learn more.\n",
    "\n",
    "Why learn Elm?\n",
    "\n",
    "Programming in a Pure Functional Language is both limiting and freeing. It limits what you can do (mostly by keeping you from shooting yourself in the foot) but at the same time it frees you from bugs and bad design decisions since all Elm programs follow The Elm Architecture, a Functionally Reactive Model.\n",
    "\n",
    "Functional Programming will make you a better programmer. The ideas in this article are only the tip of the iceberg. You really need to see them in practice to really appreciate how your programs will shrink in size and grow in stability.\n",
    "\n",
    "Javascript was initially built in 10 days and then patched for the last two decades to become a somewhat functional, somewhat object-oriented and a fully imperative programming language.\n",
    "\n",
    "Elm was designed using what has been learned in the last 30 years of work in the Haskell community, which draws from decades of work in mathematics and computer science.\n",
    "\n",
    "The Elm Architecture (TEA) was designed and refined over the years and is a result of Evan’s thesis in Functional \n",
    "Reactive Programming. Watch Controlling Time and Space to appreciate the level of thinking that went into the formulation of this design.\n",
    "\n",
    "Elm is designed for front-end web developers. It’s aimed at making their lives easier. Watch Let’s Be Mainstream to better understand this goal.\n",
    "\n",
    "\n",
    "## The Future\n",
    "\n",
    "It’s impossible to know what the future will hold, but we can make some educated guesses. Here are some of mine:\n",
    "There will be a clear move toward languages that compile to Javascript.\n",
    "\n",
    "\n",
    "Functional Programming ideas that have been around for over 40 years will be rediscovered to solve our current software complexity problems.\n",
    "\n",
    "The state of hardware, e.g. gigabytes of cheap memory and fast processors, will make functional techniques viable.\n",
    "CPUs will not get faster but the number of cores will continue to increase.\n",
    "\n",
    "Mutable state will be recognized as one of the biggest problems in complex systems.\n",
    "\n",
    "\n",
    "I wrote this series of articles because I believe that Functional Programming is the future and because I struggled over the last couple of years to learn it (I’m still learning).\n",
    "\n",
    "My goal is to help others learn these concepts easier and faster than I did and to help others become better programmers so that they can have more marketable careers in the future.\n",
    "\n",
    "Even if my prediction that Elm will be a huge language in the future is wrong, I can say with certainty that Functional Programming and Elm will be on the trajectory to whatever the future holds.\n",
    "\n"
   ]
  },
  {
   "cell_type": "markdown",
   "metadata": {},
   "source": []
  },
  {
   "cell_type": "code",
   "execution_count": null,
   "metadata": {
    "collapsed": true
   },
   "outputs": [],
   "source": []
  },
  {
   "cell_type": "markdown",
   "metadata": {},
   "source": [
    "<a href=\"#TOP\" > TOP <a/>\n",
    "\n",
    "# Functional Python - HOWTO"
   ]
  },
  {
   "cell_type": "code",
   "execution_count": null,
   "metadata": {
    "collapsed": false
   },
   "outputs": [],
   "source": [
    "L = [1,2,3]\n",
    "it = iter(L)\n",
    "it"
   ]
  },
  {
   "cell_type": "code",
   "execution_count": null,
   "metadata": {
    "collapsed": false
   },
   "outputs": [],
   "source": [
    "it.__next__()  # same as next(it)"
   ]
  },
  {
   "cell_type": "code",
   "execution_count": null,
   "metadata": {
    "collapsed": false
   },
   "outputs": [],
   "source": [
    "next(it)"
   ]
  },
  {
   "cell_type": "code",
   "execution_count": null,
   "metadata": {
    "collapsed": false
   },
   "outputs": [],
   "source": [
    "next(it)"
   ]
  },
  {
   "cell_type": "code",
   "execution_count": null,
   "metadata": {
    "collapsed": false
   },
   "outputs": [],
   "source": [
    "next(it)"
   ]
  },
  {
   "cell_type": "code",
   "execution_count": null,
   "metadata": {
    "collapsed": true
   },
   "outputs": [],
   "source": [
    "obj = ['item1','item2','item3']"
   ]
  },
  {
   "cell_type": "code",
   "execution_count": null,
   "metadata": {
    "collapsed": false
   },
   "outputs": [],
   "source": [
    "for i in iter(obj):\n",
    "    print(i)"
   ]
  },
  {
   "cell_type": "code",
   "execution_count": null,
   "metadata": {
    "collapsed": false
   },
   "outputs": [],
   "source": [
    "for i in obj:\n",
    "    print(i)"
   ]
  },
  {
   "cell_type": "markdown",
   "metadata": {},
   "source": [
    "Iterators can be materialized as lists or tuples by using the list() or tuple() constructor functions:"
   ]
  },
  {
   "cell_type": "code",
   "execution_count": null,
   "metadata": {
    "collapsed": false
   },
   "outputs": [],
   "source": [
    "L = [1,2,3]\n",
    "iterator = iter(L)\n",
    "t = tuple(iterator)\n",
    "t"
   ]
  },
  {
   "cell_type": "code",
   "execution_count": null,
   "metadata": {
    "collapsed": false
   },
   "outputs": [],
   "source": [
    "L = [1,2,3]\n",
    "iterator = iter(L)\n",
    "t = list(iterator)\n",
    "t"
   ]
  },
  {
   "cell_type": "markdown",
   "metadata": {},
   "source": [
    "Sequence unpacking also supports iterators: if you know an iterator will return N elements, you can unpack them into an N-tuple:"
   ]
  },
  {
   "cell_type": "code",
   "execution_count": null,
   "metadata": {
    "collapsed": false
   },
   "outputs": [],
   "source": [
    "L = [1,2,3]\n",
    "iterator = iter(L)\n",
    "a,b,c = iterator\n",
    "c,b,a"
   ]
  },
  {
   "cell_type": "markdown",
   "metadata": {},
   "source": [
    "Built-in functions such as max() and min() can take a single iterator argument and will return the largest or smallest element. The \"in\" and \"not in\" operators also support iterators: X in iterator is true if X is found in the stream returned by the iterator. You’ll run into obvious problems if the iterator is infinite; max(), min() will never return, and if the element X never appears in the stream, the \"in\" and \"not in\" operators won’t return either.\n",
    "\n",
    "Note that you can only go forward in an iterator; there’s no way to get the previous element, reset the iterator, or make a copy of it. Iterator objects can optionally provide these additional capabilities, but the iterator protocol only specifies the __next__() method. Functions may therefore consume all of the iterator’s output, and if you need to do something different with the same stream, you’ll have to create a new iterator.\n",
    "\n",
    "#### Data Types That Support Iterators\n",
    "We’ve already seen how lists and tuples support iterators. In fact, any Python sequence type, such as strings, will automatically support creation of an iterator.\n",
    "\n",
    "Calling iter() on a dictionary returns an iterator that will loop over the dictionary’s keys:\n"
   ]
  },
  {
   "cell_type": "code",
   "execution_count": null,
   "metadata": {
    "collapsed": false
   },
   "outputs": [],
   "source": [
    "m = {'Jan': 1, 'Feb': 2, 'Mar': 3, 'Apr': 4, 'May': 5, 'Jun': 6,\n",
    "      'Jul': 7, 'Aug': 8, 'Sep': 9, 'Oct': 10, 'Nov': 11, 'Dec': 12}\n",
    "\n",
    "for key in m:  \n",
    "    print(key, m[key])"
   ]
  },
  {
   "cell_type": "markdown",
   "metadata": {},
   "source": [
    "Note that the order is essentially random, because it’s based on the hash ordering of the objects in the dictionary.\n",
    "\n",
    "Applying iter() to a dictionary always loops over the keys, but dictionaries have methods that return other iterators. If you want to iterate over values or key/value pairs, you can explicitly call the values() or items() methods to get an appropriate iterator.\n",
    "\n",
    "The dict() constructor can accept an iterator that returns a finite stream of (key, value) tuples:"
   ]
  },
  {
   "cell_type": "code",
   "execution_count": null,
   "metadata": {
    "collapsed": false
   },
   "outputs": [],
   "source": [
    ">>>\n",
    ">>> L = [('Italy', 'Rome'), ('France', 'Paris'), ('US', 'Washington DC')]\n",
    ">>> dict(iter(L))"
   ]
  },
  {
   "cell_type": "markdown",
   "metadata": {},
   "source": [
    "Files also support iteration by calling the readline() method until there are no more lines in the file. This means you can read each line of a file like this:\n",
    "\n",
    "for line in file:\n",
    "    # do something for each line\n",
    "    ...\n",
    "    \n",
    "Sets can take their contents from an iterable and let you iterate over the set’s elements:"
   ]
  },
  {
   "cell_type": "code",
   "execution_count": null,
   "metadata": {
    "collapsed": false
   },
   "outputs": [],
   "source": [
    "S = {2, 3, 5, 7, 11, 13}\n",
    "\n",
    "for i in S:\n",
    "    print(i)"
   ]
  },
  {
   "cell_type": "markdown",
   "metadata": {},
   "source": [
    "#### Generator expressions and list comprehensions\n",
    "Two common operations on an iterator’s output are 1) performing some operation for every element, 2) selecting a subset of elements that meet some condition. For example, given a list of strings, you might want to strip off trailing whitespace from each line or extract all the strings containing a given substring.\n",
    "\n",
    "List comprehensions and generator expressions (short form: “listcomps” and “genexps”) are a concise notation for such operations, borrowed from the functional programming language Haskell (https://www.haskell.org/). You can strip all the whitespace from a stream of strings with the following code:"
   ]
  },
  {
   "cell_type": "code",
   "execution_count": null,
   "metadata": {
    "collapsed": false
   },
   "outputs": [],
   "source": [
    "line_list = ['  line 1\\n', 'line 2  \\n', 'line3\\n', '\\n']\n",
    "\n",
    "# Generator expression -- returns iterator\n",
    "stripped_iter = (line.strip() for line in line_list)\n",
    "\n",
    "# Usage:\n",
    "\n",
    "print(type(stripped_iter))\n",
    "print(stripped_iter)\n",
    "\n",
    "for item in stripped_iter:\n",
    "    print(item)"
   ]
  },
  {
   "cell_type": "code",
   "execution_count": null,
   "metadata": {
    "collapsed": false
   },
   "outputs": [],
   "source": [
    "line_list = ['  line 1\\n', 'line 2  \\n', 'line3\\n', '']\n",
    "\n",
    "# List comprehension -- returns list\n",
    "stripped_list = [line.strip() for line in line_list]\n",
    "\n",
    "# Usage:\n",
    "\n",
    "print(type(stripped_list))\n",
    "print(stripped_list)\n",
    "\n",
    "for item in stripped_list:\n",
    "    print(item)"
   ]
  },
  {
   "cell_type": "markdown",
   "metadata": {},
   "source": [
    "You can select only certain elements by adding an \"if\" condition:"
   ]
  },
  {
   "cell_type": "code",
   "execution_count": null,
   "metadata": {
    "collapsed": false
   },
   "outputs": [],
   "source": [
    "stripped_list = [line.strip() for line in line_list\n",
    "                 if line != \"\"]\n",
    "stripped_list"
   ]
  },
  {
   "cell_type": "code",
   "execution_count": null,
   "metadata": {
    "collapsed": false
   },
   "outputs": [],
   "source": [
    "stripped_iter = (line.strip() for line in line_list\n",
    "                 if line != \"\")\n",
    "\n",
    "print(type(stripped_iter))\n",
    "print(stripped_iter)\n",
    "\n",
    "for item in stripped_iter:\n",
    "    print(item)"
   ]
  },
  {
   "cell_type": "markdown",
   "metadata": {},
   "source": [
    "#### list versus generator comprehensons\n",
    "\n",
    "With a list comprehension, you get back a Python list;\n",
    "\n",
    "stripped_list is a list containing the resulting lines, not an iterator.\n",
    "\n",
    "Generator expressions return an iterator that computes the values as necessary, not needing to materialize all the values at once. This means that list comprehensions aren’t useful if you’re working with iterators that return an infinite stream or a very large amount of data. Generator expressions are preferable in these situations.\n",
    "\n",
    "Generator expressions are surrounded by parentheses (“()”) and list comprehensions are surrounded by square brackets (“[]”). Generator expressions have the form:\n",
    "\n",
    "The general form is:\n",
    "\n",
    "( expression for expr in sequence1\n",
    "             if condition1\n",
    "             for expr2 in sequence2\n",
    "             if condition2\n",
    "             for expr3 in sequence3 ...\n",
    "             if condition3\n",
    "             for exprN in sequenceN\n",
    "             if conditionN )\n",
    "\n",
    "Again, for a list comprehension only the outside brackets are different (square brackets instead of parentheses).\n",
    "\n",
    "The elements of the generated output will be the successive values of expression.\n",
    "\n",
    "The if clauses are all optional; if present, expression is only evaluated and added to the result when condition is true.\n",
    "\n",
    "Generator expressions always have to be written inside parentheses, but the parentheses signalling a function call also\n",
    "count. If you want to create an iterator that will be immediately passed to a function you can write:\n",
    "\n",
    "obj_total = sum(obj.count for obj in list_all_objects())\n",
    "\n",
    "The for...in clauses contain the sequences to be iterated over.\n",
    "The sequences do not have to be the same length, because they are iterated over from left to right, not in parallel.\n",
    "\n",
    "For each element in sequence1, sequence2 is looped over from the beginning.\n",
    "sequence3 is then looped over for each resulting pair of elements from sequence1 and sequence2.\n",
    "\n",
    "To put it another way, a list comprehension or generator expression is equivalent to the following Python code:\n",
    "\n",
    "```\n",
    "for expr1 in sequence1:\n",
    "    if not (condition1):\n",
    "        continue   # Skip this element\n",
    "    for expr2 in sequence2:\n",
    "        if not (condition2):\n",
    "            continue   # Skip this element\n",
    "        ...\n",
    "        for exprN in sequenceN:\n",
    "            if not (conditionN):\n",
    "                continue   # Skip this element\n",
    "\n",
    "            # Output the value of\n",
    "            # the expression.\n",
    "```\n",
    "\n",
    "This means that when there are multiple for...in clauses but no if clauses, the length of the resulting output will be equal to the product of the lengths of all the sequences. If you have two lists of length 3, the output list is 9 elements long:"
   ]
  },
  {
   "cell_type": "code",
   "execution_count": null,
   "metadata": {
    "collapsed": false
   },
   "outputs": [],
   "source": [
    "seq1 = 'abc'\n",
    "seq2 = (1,2,3)\n",
    "[(x, y) for x in seq1 for y in seq2]  "
   ]
  },
  {
   "cell_type": "markdown",
   "metadata": {},
   "source": [
    "To avoid introducing an ambiguity into Python’s grammar, if expression is creating a tuple, it must be surrounded with parentheses. The first list comprehension below is a syntax error, while the second one is correct:"
   ]
  },
  {
   "cell_type": "code",
   "execution_count": null,
   "metadata": {
    "collapsed": false
   },
   "outputs": [],
   "source": [
    "# Syntax error\n",
    "[x, y for x in seq1 for y in seq2]"
   ]
  },
  {
   "cell_type": "code",
   "execution_count": null,
   "metadata": {
    "collapsed": false
   },
   "outputs": [],
   "source": [
    "# Correct\n",
    "[(x, y) for x in seq1 for y in seq2]"
   ]
  },
  {
   "cell_type": "markdown",
   "metadata": {},
   "source": [
    "## Generators\n",
    "Generators are a special class of functions that simplify the task of writing iterators. Regular functions compute a value and return it, but generators return an iterator that returns a stream of values.\n",
    "\n",
    "You’re doubtless familiar with how regular function calls work in Python or C. When you call a function, it gets a private namespace where its local variables are created. When the function reaches a return statement, the local variables are destroyed and the value is returned to the caller. A later call to the same function creates a new private namespace and a fresh set of local variables. But, what if the local variables weren’t thrown away on exiting a function? What if you could later resume the function where it left off? This is what generators provide; they can be thought of as resumable functions.\n",
    "\n",
    "Here’s the simplest example of a generator function:"
   ]
  },
  {
   "cell_type": "code",
   "execution_count": null,
   "metadata": {
    "collapsed": true
   },
   "outputs": [],
   "source": [
    "def generate_ints(N):\n",
    "    for i in range(N):\n",
    "        yield i"
   ]
  },
  {
   "cell_type": "markdown",
   "metadata": {},
   "source": [
    "Any function containing a yield keyword is a generator function; this is detected by Python’s bytecode compiler which compiles the function specially as a result.\n",
    "\n",
    "When you call a generator function, it doesn’t return a single value; instead it returns a generator object that supports the iterator protocol. On executing the yield expression, the generator outputs the value of i, similar to a return statement. The big difference between yield and a return statement is that on reaching a yield the generator’s state of execution is suspended and local variables are preserved. On the next call to the generator’s __next__() method, the function will resume executing.\n",
    "\n",
    "Here’s a sample usage of the generate_ints() generator:"
   ]
  },
  {
   "cell_type": "code",
   "execution_count": null,
   "metadata": {
    "collapsed": false
   },
   "outputs": [],
   "source": [
    "gen = generate_ints(3)\n",
    "print(gen)\n",
    "print( next(gen) )\n",
    "print( next(gen) )\n",
    "print( next(gen) )"
   ]
  },
  {
   "cell_type": "markdown",
   "metadata": {},
   "source": [
    "You could equally write"
   ]
  },
  {
   "cell_type": "code",
   "execution_count": null,
   "metadata": {
    "collapsed": false
   },
   "outputs": [],
   "source": [
    "for i in generate_ints(5):\n",
    "    print(i)"
   ]
  },
  {
   "cell_type": "markdown",
   "metadata": {},
   "source": [
    ", or"
   ]
  },
  {
   "cell_type": "code",
   "execution_count": null,
   "metadata": {
    "collapsed": false
   },
   "outputs": [],
   "source": [
    "a,b,c = generate_ints(3)\n",
    "\n",
    "(a,b,c)"
   ]
  },
  {
   "cell_type": "markdown",
   "metadata": {},
   "source": [
    "Inside a generator function, return value causes StopIteration(value) to be raised from the __next__() method.\n",
    "\n",
    "Once this happens, or the bottom of the function is reached, the procession of values ends and\n",
    "the generator cannot yield any further values.\n",
    "\n",
    "You could achieve the effect of generators manually by writing your own class and storing all\n",
    "the local variables of the generator as instance variables.\n",
    "\n",
    "For example, returning a list of integers could be done by setting self.count to 0, and\n",
    "having the __next__() method increment self.count and return it.\n",
    "\n",
    "However, for a moderately complicated generator, writing a corresponding class can be much messier.\n",
    "\n",
    "The test suite included with Python’s library, Lib/test/test_generators.py, contains a number of more interesting examples. Here’s one generator that implements an in-order traversal of a tree using generators recursively."
   ]
  },
  {
   "cell_type": "code",
   "execution_count": null,
   "metadata": {
    "collapsed": true
   },
   "outputs": [],
   "source": [
    "# A recursive generator that generates Tree leaves in in-order.\n",
    "def inorder(t):\n",
    "    if t:\n",
    "        for x in inorder(t.left):\n",
    "            yield x\n",
    "\n",
    "        yield t.label\n",
    "\n",
    "        for x in inorder(t.right):\n",
    "            yield x"
   ]
  },
  {
   "cell_type": "code",
   "execution_count": null,
   "metadata": {
    "collapsed": false
   },
   "outputs": [],
   "source": [
    "atree = tree()"
   ]
  },
  {
   "cell_type": "markdown",
   "metadata": {},
   "source": [
    "Two other examples in test_generators.py produce solutions for the N-Queens problem\n",
    "(placing N queens on an NxN chess board so that no queen threatens another) and\n",
    "the Knight’s Tour (finding a route that takes a knight to every square of an NxN chessboard without visiting any square twice).\n",
    "\n",
    "#### Passing values into a generator\n",
    "In Python 2.4 and earlier, generators only produced output.\n",
    "Once a generator’s code was invoked to create an iterator, there was no way to\n",
    "pass any new information into the function when its execution is resumed.\n",
    "You could hack together this ability by making the generator look at a global variable or by passing in\n",
    "some mutable object that callers then modify, but these approaches are messy.\n",
    "\n",
    "In Python 2.5 there’s a simple way to pass values into a generator.\n",
    "yield became an expression, returning a value that can be assigned to a variable or otherwise operated on:\n",
    "\n",
    "val = (yield i)\n",
    "\n",
    "I recommend that you always put parentheses around a yield expression when you’re doing something with the\n",
    "returned value, as in the above example.\n",
    "The parentheses aren’t always necessary, but it’s easier to always add them instead of having to remember when\n",
    "they’re needed.\n",
    "\n",
    "(PEP 342 explains the exact rules, which are that a yield-expression must always be parenthesized except when it occurs at the top-level expression on the right-hand side of an assignment. This means you can write val = yield i but have to use parentheses when there’s an operation, as in val = (yield i) + 12.)\n",
    "\n",
    "Values are sent into a generator by calling its send(value) method.\n",
    "This method resumes the generator’s code and the yield expression returns the specified value.\n",
    "If the regular __next__() method is called, the yield returns None.\n",
    "\n",
    "Here’s a simple counter that increments by 1 and allows changing the value of the internal counter."
   ]
  },
  {
   "cell_type": "code",
   "execution_count": null,
   "metadata": {
    "collapsed": true
   },
   "outputs": [],
   "source": [
    "def counter(maximum):\n",
    "    i = 0\n",
    "    while i < maximum:\n",
    "        val = (yield i)\n",
    "        # If value provided, change counter\n",
    "        if val is not None:\n",
    "            i = val\n",
    "        else:\n",
    "            i += 1"
   ]
  },
  {
   "cell_type": "markdown",
   "metadata": {},
   "source": [
    "And here’s an example of changing the counter:"
   ]
  },
  {
   "cell_type": "code",
   "execution_count": null,
   "metadata": {
    "collapsed": false
   },
   "outputs": [],
   "source": [
    "it = counter(10)  \n",
    "print(next(it))\n",
    "next(it)"
   ]
  },
  {
   "cell_type": "code",
   "execution_count": null,
   "metadata": {
    "collapsed": false
   },
   "outputs": [],
   "source": [
    "print(next(it))\n",
    "print(next(it))"
   ]
  },
  {
   "cell_type": "code",
   "execution_count": null,
   "metadata": {
    "collapsed": false
   },
   "outputs": [],
   "source": [
    "it.send(8)"
   ]
  },
  {
   "cell_type": "code",
   "execution_count": null,
   "metadata": {
    "collapsed": false
   },
   "outputs": [],
   "source": [
    "next(it)  "
   ]
  },
  {
   "cell_type": "code",
   "execution_count": null,
   "metadata": {
    "collapsed": false
   },
   "outputs": [],
   "source": [
    "next(it)  "
   ]
  },
  {
   "cell_type": "markdown",
   "metadata": {},
   "source": [
    "Because yield will often be returning None, you should always check for this case.\n",
    "Don’t just use its value in expressions unless you’re sure that the send() method\n",
    "will be the only method used to resume your generator function.\n",
    "\n",
    "In addition to send(), there are two other methods on generators:\n",
    "\n",
    "- throw(type, value=None, traceback=None) is used to raise an exception inside the generator;\n",
    "    the exception is raised by the yield expression where the generator’s execution is paused.\n",
    "\n",
    "- close() raises a GeneratorExit exception inside the generator to terminate the iteration.\n",
    "    On receiving this exception, the generator’s code must either raise GeneratorExit or StopIteration;\n",
    "    catching the exception and doing anything else is illegal and will trigger a RuntimeError.\n",
    "    close() will also be called by Python’s garbage collector when the generator is garbage-collected.\n",
    "\n",
    "If you need to run cleanup code when a GeneratorExit occurs, I suggest using a try: ... finally: suite\n",
    "instead of catching GeneratorExit.\n",
    "\n",
    "The cumulative effect of these changes is to turn generators from one-way producers of information into\n",
    "both producers and consumers.\n",
    "\n",
    "Generators also become coroutines, a more generalized form of subroutines.\n",
    "Subroutines are entered at one point and exited at another point (the top of the function, and a return statement),\n",
    "but coroutines can be entered, exited, and resumed at many different points (the yield statements)."
   ]
  },
  {
   "cell_type": "markdown",
   "metadata": {},
   "source": [
    "## Built-in functions\n",
    "Let’s look in more detail at built-in functions often used with iterators.\n",
    "\n",
    "Two of Python’s built-in functions, map() and filter() duplicate the features of generator expressions:\n",
    "\n",
    "#### map\n",
    "map(f, iterA, iterB, ...) returns an iterator over the sequence\n",
    "\n",
    "f(iterA[0], iterB[0]), f(iterA[1], iterB[1]), f(iterA[2], iterB[2]), ...."
   ]
  },
  {
   "cell_type": "code",
   "execution_count": null,
   "metadata": {
    "collapsed": false
   },
   "outputs": [],
   "source": [
    "def upper(s):\n",
    "    return s.upper()\n",
    "\n",
    "list(map(upper, ['sentence', 'fragment']))"
   ]
  },
  {
   "cell_type": "markdown",
   "metadata": {},
   "source": [
    "You can of course achieve the same effect with a list comprehension."
   ]
  },
  {
   "cell_type": "code",
   "execution_count": null,
   "metadata": {
    "collapsed": false
   },
   "outputs": [],
   "source": [
    "[upper(s) for s in ['sentence', 'fragment']]"
   ]
  },
  {
   "cell_type": "markdown",
   "metadata": {},
   "source": [
    "#### filter\n",
    "\n",
    "filter(predicate, iter) returns an iterator over all the sequence elements that meet a certain condition, and is similarly duplicated by list comprehensions. A predicate is a function that returns the truth value of some condition; for use with filter(), the predicate must take a single value."
   ]
  },
  {
   "cell_type": "code",
   "execution_count": null,
   "metadata": {
    "collapsed": false
   },
   "outputs": [],
   "source": [
    "def is_even(x):\n",
    "    return (x % 2) == 0\n",
    "\n",
    "list(filter(is_even, range(10)))"
   ]
  },
  {
   "cell_type": "markdown",
   "metadata": {},
   "source": [
    "This can also be written as a list comprehension:"
   ]
  },
  {
   "cell_type": "code",
   "execution_count": null,
   "metadata": {
    "collapsed": false
   },
   "outputs": [],
   "source": [
    "list(x for x in range(10) if is_even(x))"
   ]
  },
  {
   "cell_type": "markdown",
   "metadata": {},
   "source": [
    "#### enumerate\n",
    "\n",
    "enumerate(iter) counts off the elements in the iterable, returning 2-tuples containing the count and each element.\n",
    "\n",
    "enumerate() is often used when looping through a list and recording the indexes at which certain conditions are met:\n"
   ]
  },
  {
   "cell_type": "code",
   "execution_count": null,
   "metadata": {
    "collapsed": false
   },
   "outputs": [],
   "source": [
    "for item in enumerate(['subject', 'verb', 'object']):\n",
    "    print(item)"
   ]
  },
  {
   "cell_type": "code",
   "execution_count": null,
   "metadata": {
    "collapsed": false
   },
   "outputs": [],
   "source": [
    "f = open('/etc/hosts', 'r')\n",
    "for i, line in enumerate(f):\n",
    "    if line.strip() == '':\n",
    "        print('Blank line at line #%i' % i)"
   ]
  },
  {
   "cell_type": "markdown",
   "metadata": {},
   "source": [
    "#### sorted\n",
    "\n",
    "sorted(iterable, key=None, reverse=False) collects all the elements of the iterable into a list, sorts the list,\n",
    "and returns the sorted result.\n",
    "\n",
    "The key and reverse arguments are passed through to the constructed list’s sort() method."
   ]
  },
  {
   "cell_type": "code",
   "execution_count": null,
   "metadata": {
    "collapsed": false
   },
   "outputs": [],
   "source": [
    "import random\n",
    "\n",
    "# Generate 8 random numbers between [0, 10000)\n",
    "rand_list = random.sample(range(10000), 8)\n",
    "rand_list"
   ]
  },
  {
   "cell_type": "code",
   "execution_count": null,
   "metadata": {
    "collapsed": false
   },
   "outputs": [],
   "source": [
    "sorted(rand_list)"
   ]
  },
  {
   "cell_type": "code",
   "execution_count": null,
   "metadata": {
    "collapsed": true
   },
   "outputs": [],
   "source": [
    "sorted(rand_list, reverse=True) "
   ]
  },
  {
   "cell_type": "markdown",
   "metadata": {},
   "source": [
    "Sort with even numbers first:"
   ]
  },
  {
   "cell_type": "code",
   "execution_count": null,
   "metadata": {
    "collapsed": false
   },
   "outputs": [],
   "source": [
    "sorted(rand_list, key=lambda val: val % 2)"
   ]
  },
  {
   "cell_type": "markdown",
   "metadata": {},
   "source": [
    "(For a more detailed discussion of sorting, see the [Sorting HOW TO](https://docs.python.org/3/howto/sorting.html).)\n",
    "\n",
    "#### any and all\n",
    "The any(iter) and all(iter) built-ins look at the truth values of an iterable’s contents. any() returns True if any element in the iterable is a true value, and all() returns True if all of the elements are true values:"
   ]
  },
  {
   "cell_type": "code",
   "execution_count": null,
   "metadata": {
    "collapsed": false
   },
   "outputs": [],
   "source": [
    "any([0,1,0])"
   ]
  },
  {
   "cell_type": "code",
   "execution_count": null,
   "metadata": {
    "collapsed": false
   },
   "outputs": [],
   "source": [
    "any([0,0,0])"
   ]
  },
  {
   "cell_type": "code",
   "execution_count": null,
   "metadata": {
    "collapsed": false
   },
   "outputs": [],
   "source": [
    "any([1,1,1])"
   ]
  },
  {
   "cell_type": "code",
   "execution_count": null,
   "metadata": {
    "collapsed": false
   },
   "outputs": [],
   "source": [
    "all([0,1,0])"
   ]
  },
  {
   "cell_type": "code",
   "execution_count": null,
   "metadata": {
    "collapsed": false
   },
   "outputs": [],
   "source": [
    "all([0,0,0])"
   ]
  },
  {
   "cell_type": "code",
   "execution_count": null,
   "metadata": {
    "collapsed": false
   },
   "outputs": [],
   "source": [
    "all([1,1,1])"
   ]
  },
  {
   "cell_type": "markdown",
   "metadata": {},
   "source": [
    "#### zip\n",
    "zip(iterA, iterB, ...) takes one element from each iterable and returns a zip object (an iterator on a tuple):"
   ]
  },
  {
   "cell_type": "code",
   "execution_count": null,
   "metadata": {
    "collapsed": false
   },
   "outputs": [],
   "source": [
    "myzip = zip(['a', 'b', 'c'], (1, 2, 3))\n",
    "myzip.__next__()"
   ]
  },
  {
   "cell_type": "code",
   "execution_count": null,
   "metadata": {
    "collapsed": false
   },
   "outputs": [],
   "source": [
    "list(myzip)"
   ]
  },
  {
   "cell_type": "markdown",
   "metadata": {},
   "source": [
    "It doesn’t construct an in-memory list and exhaust all the input iterators before returning;\n",
    "instead tuples are constructed and returned only if they’re requested.\n",
    "(The technical term for this behaviour is lazy evaluation.)\n",
    "\n",
    "This iterator is intended to be used with iterables that are all of the same length.\n",
    "If the iterables are of different lengths, the resulting stream will be the same length as the shortest iterable."
   ]
  },
  {
   "cell_type": "code",
   "execution_count": null,
   "metadata": {
    "collapsed": false
   },
   "outputs": [],
   "source": [
    "list( zip(['a', 'b'], (1, 2, 3, 4, 5, 6, 7, 8)) )"
   ]
  },
  {
   "cell_type": "markdown",
   "metadata": {},
   "source": [
    "You should avoid doing this, though, because an element may be taken from the longer iterators and discarded.\n",
    "\n",
    "This means you can’t go on to use the iterators further because you risk skipping a discarded element."
   ]
  },
  {
   "cell_type": "markdown",
   "metadata": {},
   "source": [
    "## The itertools module\n",
    "The itertools module contains a number of commonly-used iterators as well as functions for combining several iterators.\n",
    "\n",
    "This section will introduce the module’s contents by showing small examples.\n",
    "\n",
    "The module’s functions fall into a few broad classes:\n",
    "\n",
    "- Functions that create a new iterator based on an existing iterator.\n",
    "- Functions for treating an iterator’s elements as function arguments.\n",
    "- Functions for selecting portions of an iterator’s output.\n",
    "- A function for grouping an iterator’s output.\n",
    "\n",
    "#### Creating new iterators\n",
    "\n",
    "itertools.count(n) returns an infinite stream of integers, increasing by 1 each time. You can optionally supply the starting number, which defaults to 0:"
   ]
  },
  {
   "cell_type": "code",
   "execution_count": null,
   "metadata": {
    "collapsed": true
   },
   "outputs": [],
   "source": [
    "import itertools"
   ]
  },
  {
   "cell_type": "code",
   "execution_count": null,
   "metadata": {
    "collapsed": false
   },
   "outputs": [],
   "source": [
    "cntr = itertools.count()\n",
    "\n",
    "print(cntr)\n",
    "for i in cntr:\n",
    "    print(i)\n",
    "    if i > 20:\n",
    "        break"
   ]
  },
  {
   "cell_type": "code",
   "execution_count": null,
   "metadata": {
    "collapsed": false
   },
   "outputs": [],
   "source": [
    "cntr = itertools.count(10)\n",
    "print(cntr)\n",
    "\n",
    "for i in cntr:\n",
    "    print(i, cntr)\n",
    "    if i > 20:\n",
    "        break"
   ]
  },
  {
   "cell_type": "code",
   "execution_count": null,
   "metadata": {
    "collapsed": false
   },
   "outputs": [],
   "source": [
    "dir(cntr)"
   ]
  },
  {
   "cell_type": "code",
   "execution_count": null,
   "metadata": {
    "collapsed": false
   },
   "outputs": [],
   "source": [
    "?cntr"
   ]
  },
  {
   "cell_type": "code",
   "execution_count": null,
   "metadata": {
    "collapsed": true
   },
   "outputs": [],
   "source": [
    "def nextN(obj, N=1):\n",
    "    l=[]\n",
    "    \n",
    "    for i in range(N):\n",
    "        #print( obj.__next__())\n",
    "        l.append( obj.__next__())\n",
    "        \n",
    "    return l"
   ]
  },
  {
   "cell_type": "code",
   "execution_count": null,
   "metadata": {
    "collapsed": false
   },
   "outputs": [],
   "source": [
    "gg = nextN(cntr, 10)\n",
    "\n",
    "gg"
   ]
  },
  {
   "cell_type": "code",
   "execution_count": null,
   "metadata": {
    "collapsed": true
   },
   "outputs": [],
   "source": [
    "def nextNg(obj, N=1):\n",
    "    for i in range(N):\n",
    "        #print( obj.__next__())\n",
    "        yield( obj.__next__())"
   ]
  },
  {
   "cell_type": "code",
   "execution_count": null,
   "metadata": {
    "collapsed": false
   },
   "outputs": [],
   "source": [
    "gg = nextNg(cntr, 10)\n",
    "#g.__next__()\n",
    "gg\n",
    "print(gg.__next__())"
   ]
  },
  {
   "cell_type": "markdown",
   "metadata": {},
   "source": [
    "#### Generator examples from [HOWTO](https://wiki.python.org/moin/Generators)\n",
    "\n",
    "Let's look at an example of where generators can be useful.\n",
    "\n",
    "First let's look at an example where we want to sum a the elecments of a list."
   ]
  },
  {
   "cell_type": "code",
   "execution_count": null,
   "metadata": {
    "collapsed": false
   },
   "outputs": [],
   "source": [
    "# Build and return a list\n",
    "def firstn(n):\n",
    "    num, nums = 0, []\n",
    "    while num < n:\n",
    "        nums.append(num)\n",
    "        num += 1\n",
    "    return nums\n",
    "\n",
    "sum_of_first_n = sum(firstn(1000000))\n",
    "sum_of_first_n"
   ]
  },
  {
   "cell_type": "code",
   "execution_count": null,
   "metadata": {
    "collapsed": false
   },
   "outputs": [],
   "source": [
    "import sys\n",
    "\n",
    "print(\"In memory size of list=\" + str(sys.getsizeof( firstn(10000000) )/1000000) + \" MBytes\")"
   ]
  },
  {
   "cell_type": "markdown",
   "metadata": {},
   "source": [
    "The code is quite simple and straightforward, but its builds the full list in memory. This is clearly not acceptable in our case, because we cannot afford to keep all n \"10 megabyte\" integers in memory.\n",
    "\n",
    "So, we resort to the generator pattern. The following implements generator as an iterable object."
   ]
  },
  {
   "cell_type": "code",
   "execution_count": null,
   "metadata": {
    "collapsed": false
   },
   "outputs": [],
   "source": [
    "# Using the generator pattern (an iterable)\n",
    "class firstn(object):\n",
    "    def __init__(self, n):\n",
    "        self.n = n\n",
    "        self.num, self.nums = 0, []\n",
    "\n",
    "    def __iter__(self):\n",
    "        return self\n",
    "\n",
    "    # Python 3 compatibility\n",
    "    def __next__(self):\n",
    "        return self.next()\n",
    "\n",
    "    def next(self):\n",
    "        if self.num < self.n:\n",
    "            cur, self.num = self.num, self.num+1\n",
    "            return cur\n",
    "        else:\n",
    "            raise StopIteration()\n",
    "\n",
    "sum_of_first_n = sum(firstn(1000000))\n",
    "sum_of_first_n"
   ]
  },
  {
   "cell_type": "code",
   "execution_count": null,
   "metadata": {
    "collapsed": false
   },
   "outputs": [],
   "source": [
    "print(\"In memory size of list=\" + str(sys.getsizeof( firstn(10000000) )) + \" Bytes\")"
   ]
  },
  {
   "cell_type": "markdown",
   "metadata": {},
   "source": [
    "This will perform as we expect, but we have the following issues:\n",
    "\n",
    "there is a lot of boilerplate\n",
    "the logic has to be expressed in a somewhat convoluted way\n",
    "Furthermore, this is a pattern that we will use over and over for many similar constructs. Imagine writing all that just to get an iterator.\n",
    "\n",
    "Python provides generator functions as a convenient shortcut to building iterators. Lets us rewrite the above iterator as a generator function:"
   ]
  },
  {
   "cell_type": "code",
   "execution_count": null,
   "metadata": {
    "collapsed": false
   },
   "outputs": [],
   "source": [
    "# a generator that yields items instead of returning a list\n",
    "def firstn(n):\n",
    "    num = 0\n",
    "    while num < n:\n",
    "        yield num\n",
    "        num += 1\n",
    "\n",
    "sum_of_first_n = sum(firstn(1000000))\n",
    "sum_of_first_n"
   ]
  },
  {
   "cell_type": "code",
   "execution_count": null,
   "metadata": {
    "collapsed": false
   },
   "outputs": [],
   "source": [
    "print(\"In memory size of list=\" + str(sys.getsizeof( firstn(10000000) )) + \" Bytes\")"
   ]
  },
  {
   "cell_type": "markdown",
   "metadata": {},
   "source": [
    "Note that the expression of the number generation logic is clear and natural. It is very similar to the implementation that built a list in memory, but has the memory usage characteristic of the iterator implementation.\n",
    "\n",
    "Note: the above code is perfectly acceptable for expository purposes, but remember that in Python 2 firstn() is equivalent to the built-in xrange() function, and in Python 3 range() is a generator. The built-ins will always be much faster. SH\n",
    "\n",
    "Generator expressions provide an additional shortcut to build generators out of expressions similar to that of list comprehensions.\n",
    "\n",
    "In fact, we can turn a list comprehension into a generator expression by replacing the square brackets (\"[ ]\") with parentheses. Alternately, we can think of list comprehensions as generator expressions wrapped in a list constructor.\n",
    "\n",
    "Consider the following example:"
   ]
  },
  {
   "cell_type": "code",
   "execution_count": null,
   "metadata": {
    "collapsed": false
   },
   "outputs": [],
   "source": [
    "# list comprehension\n",
    "doubles = [2 * n for n in range(50)]\n",
    "doubles"
   ]
  },
  {
   "cell_type": "code",
   "execution_count": null,
   "metadata": {
    "collapsed": false
   },
   "outputs": [],
   "source": [
    "# same as the list comprehension above\n",
    "doubles = list(2 * n for n in range(50))\n",
    "doubles"
   ]
  },
  {
   "cell_type": "markdown",
   "metadata": {},
   "source": [
    "Notice how a list comprehension looks essentially like a generator expression passed to a list constructor.\n",
    "\n",
    "By allowing generator expressions, we don't have to write a generator function if we do not need the list. If only list comprehensions were available, and we needed to lazily build a set of items to be processed, we will have to write a generator function.\n",
    "\n",
    "This also means that we can use the same syntax we have been using for list comprehensions to build generators.\n",
    "\n",
    "Keep in mind that generators are a special type of iterator, and that containers like list and set are also iterables. The uniform way in which all of these are handled, adds greatly to the simplification of code.\n",
    "\n",
    "#### Improved Performance\n",
    "\n",
    "The performance improvement from the use of generators is the result of the lazy (on demand) generation of values, which translates to lower memory usage. Furthermore, we do not need to wait until all the elements have been generated before we start to use them. This is similar to the benefits provided by iterators, but the generator makes building iterators easy.\n",
    "\n"
   ]
  },
  {
   "cell_type": "markdown",
   "metadata": {},
   "source": [
    "#### itertools.cycle(iter)\n",
    "\n",
    "itertools.cycle(iter) saves a copy of the contents of a provided iterable and returns a new iterator that returns\n",
    "its elements from first to last.\n",
    "The new iterator will repeat these elements infinitely.\n"
   ]
  },
  {
   "cell_type": "code",
   "execution_count": null,
   "metadata": {
    "collapsed": false
   },
   "outputs": [],
   "source": [
    "ic = itertools.cycle([1,2,3,4,5])"
   ]
  },
  {
   "cell_type": "code",
   "execution_count": null,
   "metadata": {
    "collapsed": false
   },
   "outputs": [],
   "source": [
    "print(ic)\n",
    "\n",
    "for i in range(12):\n",
    "    print( ic.__next__() )"
   ]
  },
  {
   "cell_type": "markdown",
   "metadata": {},
   "source": [
    "#### itertools.repeat(obj)\n",
    "\n",
    "itertools.repeat(elem, [n]) returns the provided element n times, or returns the element endlessly if n is not provided.\n"
   ]
  },
  {
   "cell_type": "code",
   "execution_count": null,
   "metadata": {
    "collapsed": false
   },
   "outputs": [],
   "source": [
    "ir = itertools.repeat('abc')\n",
    "print(ir)\n",
    "\n",
    "for i in range(5):\n",
    "    print(ir.__next__())"
   ]
  },
  {
   "cell_type": "markdown",
   "metadata": {},
   "source": [
    "#### itertools.chain(iterA, iterB, ...)\n",
    "takes an arbitrary number of iterables as input, and returns all the elements of the first iterator, then all the elements of the second, and so on, until all of the iterables have been exhausted.\n"
   ]
  },
  {
   "cell_type": "code",
   "execution_count": null,
   "metadata": {
    "collapsed": false
   },
   "outputs": [],
   "source": [
    "print( list( itertools.chain(['a', 'b', 'c'], (1, 2, 3)) ))"
   ]
  },
  {
   "cell_type": "markdown",
   "metadata": {},
   "source": [
    "#### itertools.islice(iter, [start], stop, [step])\n",
    "\n",
    "returns a stream that’s a slice of the iterator. With a single stop argument, it will return the first stop elements. If you supply a starting index, you’ll get stop-start elements, and if you supply a value for step, elements will be skipped accordingly. Unlike Python’s string and list slicing, you can’t use negative values for start, stop, or step.\n"
   ]
  },
  {
   "cell_type": "code",
   "execution_count": null,
   "metadata": {
    "collapsed": false
   },
   "outputs": [],
   "source": [
    "print( list( itertools.islice(range(10), 8) ) )  # stop=8\n",
    "print()\n",
    "print( list( itertools.islice(range(10), 2, 8) ) ) # start=2, stop=8\n",
    "print()\n",
    "print( list( itertools.islice(range(10), 2, 8, 3) ) ) # start=2, stop=8, step=3"
   ]
  },
  {
   "cell_type": "markdown",
   "metadata": {},
   "source": [
    "itertools.tee(iter, [n]) replicates an iterator; it returns n independent iterators that will all return the contents of the source iterator. If you don’t supply a value for n, the default is 2. Replicating iterators requires saving some of the contents of the source iterator, so this can consume significant memory if the iterator is large and one of the new iterators is consumed more than the others.\n"
   ]
  },
  {
   "cell_type": "code",
   "execution_count": null,
   "metadata": {
    "collapsed": false
   },
   "outputs": [],
   "source": [
    "iterA, iterB = itertools.tee( itertools.count() )\n",
    "\n",
    "print( nextN(iterA, 10) )\n",
    "print( nextN(iterB, 10) )\n",
    "\n",
    "print( nextN(iterA, 10) )\n",
    "print( nextN(iterB, 10) )\n"
   ]
  },
  {
   "cell_type": "markdown",
   "metadata": {},
   "source": [
    "#### Calling functions on elements\n",
    "The operator module contains a set of functions corresponding to Python’s operators. Some examples are operator.add(a, b) (adds two values), operator.ne(a, b) (same as a != b), and operator.attrgetter('id') (returns a callable that fetches the .id attribute).\n",
    "\n",
    "itertools.starmap(func, iter) assumes that the iterable will return a stream of tuples, and calls func using these tuples as the arguments:\n"
   ]
  },
  {
   "cell_type": "code",
   "execution_count": null,
   "metadata": {
    "collapsed": false
   },
   "outputs": [],
   "source": [
    "import os\n",
    "\n",
    "i = itertools.starmap(os.path.join,\n",
    "                  [('/bin', 'python'), ('/usr', 'bin', 'java'),\n",
    "                   ('/usr', 'bin', 'perl'), ('/usr', 'bin', 'ruby')])\n",
    "\n",
    "print( list(i) )"
   ]
  },
  {
   "cell_type": "markdown",
   "metadata": {},
   "source": [
    "#### Selecting elements\n",
    "Another group of functions chooses a subset of an iterator’s elements based on a predicate.\n",
    "\n",
    "itertools.filterfalse(predicate, iter) is the opposite of filter(), returning all elements for which the predicate returns false:\n"
   ]
  },
  {
   "cell_type": "code",
   "execution_count": null,
   "metadata": {
    "collapsed": false
   },
   "outputs": [],
   "source": [
    "import itertools\n",
    "\n",
    "def is_even(n):\n",
    "    return n % 2 == 0\n",
    "\n",
    "print(nextN( itertools.filterfalse(is_even, itertools.count()), 10 ))"
   ]
  },
  {
   "cell_type": "markdown",
   "metadata": {},
   "source": [
    "itertools.takewhile(predicate, iter) returns elements for as long as the predicate returns true. Once the predicate returns false, the iterator will signal the end of its results.\n",
    "\n",
    "itertools.dropwhile(predicate, iter) discards elements while the predicate returns true, and then returns the rest of the iterable’s results.\n"
   ]
  },
  {
   "cell_type": "code",
   "execution_count": null,
   "metadata": {
    "collapsed": false
   },
   "outputs": [],
   "source": [
    "def less_than_10(x):\n",
    "    return x < 10\n",
    "\n",
    "print(nextN( itertools.takewhile(less_than_10, itertools.count()), 10 ))"
   ]
  },
  {
   "cell_type": "code",
   "execution_count": null,
   "metadata": {
    "collapsed": false
   },
   "outputs": [],
   "source": [
    "print(list( itertools.takewhile(is_even, itertools.count()) ))"
   ]
  },
  {
   "cell_type": "code",
   "execution_count": null,
   "metadata": {
    "collapsed": false
   },
   "outputs": [],
   "source": [
    "print(nextN( itertools.dropwhile(less_than_10, itertools.count()), 10 ))\n",
    "\n",
    "print(nextN( itertools.dropwhile(is_even, itertools.count()), 10 ))"
   ]
  },
  {
   "cell_type": "markdown",
   "metadata": {},
   "source": [
    "itertools.compress(data, selectors) takes two iterators and returns only those elements of data for which the corresponding element of selectors is true, stopping whenever either one is exhausted:\n"
   ]
  },
  {
   "cell_type": "code",
   "execution_count": null,
   "metadata": {
    "collapsed": false
   },
   "outputs": [],
   "source": [
    "print(list( itertools.compress([1,2,3,4,5], [True, True, False, False, True]) ))"
   ]
  },
  {
   "cell_type": "markdown",
   "metadata": {},
   "source": [
    "#### Combinatoric functions\n",
    "The itertools.combinations(iterable, r) returns an iterator giving all possible r-tuple combinations of the elements contained in iterable.\n"
   ]
  },
  {
   "cell_type": "code",
   "execution_count": null,
   "metadata": {
    "collapsed": false
   },
   "outputs": [],
   "source": [
    "print(list( itertools.combinations([1, 2, 3, 4, 5], 2) ))\n",
    "\n",
    "print(list( itertools.combinations([1, 2, 3, 4, 5], 3) ))"
   ]
  },
  {
   "cell_type": "markdown",
   "metadata": {},
   "source": [
    "The elements within each tuple remain in the same order as iterable returned them. For example, the number 1 is always before 2, 3, 4, or 5 in the examples above. A similar function, itertools.permutations(iterable, r=None), removes this constraint on the order, returning all possible arrangements of length r:\n",
    "\n",
    "If you don’t supply a value for r the length of the iterable is used, meaning that all the elements are permuted.\n",
    "\n",
    "Note that these functions produce all of the possible combinations by position and don’t require that the contents of iterable are unique:\n",
    "\n"
   ]
  },
  {
   "cell_type": "code",
   "execution_count": null,
   "metadata": {
    "collapsed": false
   },
   "outputs": [],
   "source": [
    "print(list( itertools.permutations([1, 2, 3, 4, 5], 2) ))\n",
    "\n",
    "print(list( itertools.permutations([1, 2, 3, 4, 5]) ))\n",
    "\n",
    "print(list( itertools.permutations('aba', 3) ))"
   ]
  },
  {
   "cell_type": "code",
   "execution_count": null,
   "metadata": {
    "collapsed": true
   },
   "outputs": [],
   "source": [
    "The identical tuple ('a', 'a', 'b') occurs twice, but the two ‘a’ strings came from different positions.\n",
    "\n",
    "The itertools.combinations_with_replacement(iterable, r) function relaxes a different constraint: elements can be repeated within a single tuple. Conceptually an element is selected for the first position of each tuple and then is replaced before the second element is selected."
   ]
  },
  {
   "cell_type": "code",
   "execution_count": null,
   "metadata": {
    "collapsed": false
   },
   "outputs": [],
   "source": [
    "print(list( itertools.combinations_with_replacement([1, 2, 3, 4, 5], 2) ))"
   ]
  },
  {
   "cell_type": "markdown",
   "metadata": {},
   "source": [
    "#### Grouping elements\n",
    "The last function I’ll discuss, itertools.groupby(iter, key_func=None), is the most complicated. key_func(elem) is a function that can compute a key value for each element returned by the iterable. If you don’t supply a key function, the key is simply each element itself.\n",
    "\n",
    "groupby() collects all the consecutive elements from the underlying iterable that have the same key value, and returns a stream of 2-tuples containing a key value and an iterator for the elements with that key.\n",
    "\n",
    "#### NOTE: groupby() assumes that the underlying iterable’s contents will already be sorted based on the key.\n",
    "\n",
    "Note that the returned iterators also use the underlying iterable, so you have to consume the results of iterator-1 before requesting iterator-2 and its corresponding key."
   ]
  },
  {
   "cell_type": "code",
   "execution_count": null,
   "metadata": {
    "collapsed": false
   },
   "outputs": [],
   "source": [
    "city_list = [('Decatur', 'AL'), ('Huntsville', 'AL'), ('Selma', 'AL'),\n",
    "             ('Anchorage', 'AK'), ('Nome', 'AK'),\n",
    "             ('Flagstaff', 'AZ'), ('Phoenix', 'AZ'), ('Tucson', 'AZ'),\n",
    "            ]\n",
    "\n",
    "def get_state(city_state):\n",
    "    return city_state[1]\n",
    "\n",
    "\n",
    "print(list( itertools.groupby(city_list, get_state) ))\n",
    "\n",
    "byState = itertools.groupby(city_list, get_state)\n",
    "\n",
    "for state_it in byState:\n",
    "    (state, it) = state_it\n",
    "    print(list(it))\n"
   ]
  },
  {
   "cell_type": "markdown",
   "metadata": {},
   "source": [
    "#### The functools module\n",
    "The functools module in Python 2.5 contains some higher-order functions. A higher-order function takes one or more functions as input and returns a new function. The most useful tool in this module is the functools.partial() function.\n",
    "\n",
    "###### Closures\n",
    "For programs written in a functional style, you’ll sometimes want to construct variants of existing functions that have some of the parameters filled in. Consider a Python function f(a, b, c); you may wish to create a new function g(b, c) that’s equivalent to f(1, b, c); you’re filling in a value for one of f()‘s parameters. This is called “partial function application”.\n",
    "\n",
    "The constructor for partial() takes the arguments (function, arg1, arg2, ..., kwarg1=value1, kwarg2=value2). The resulting object is callable, so you can just call it to invoke function with the filled-in arguments.\n",
    "\n",
    "Here’s a small but realistic example:"
   ]
  },
  {
   "cell_type": "code",
   "execution_count": null,
   "metadata": {
    "collapsed": false
   },
   "outputs": [],
   "source": [
    "import functools\n",
    "\n",
    "def log(message, subsystem):\n",
    "    \"\"\"Write the contents of 'message' to the specified subsystem.\"\"\"\n",
    "    print('%s: %s' % (subsystem, message))\n",
    "    \n",
    "\n",
    "server_log = functools.partial(log, subsystem='server')\n",
    "server_log('Unable to open socket')"
   ]
  },
  {
   "cell_type": "markdown",
   "metadata": {},
   "source": [
    "functools.reduce(func, iter, [initial_value]) cumulatively performs an operation on all the iterable’s elements and, therefore, can’t be applied to infinite iterables. func must be a function that takes two elements and returns a single value. functools.reduce() takes the first two elements A and B returned by the iterator and calculates func(A, B). It then requests the third element, C, calculates func(func(A, B), C), combines this result with the fourth element returned, and continues until the iterable is exhausted. If the iterable returns no values at all, a TypeError exception is raised. If the initial value is supplied, it’s used as a starting point and func(initial_value, A) is the first calculation."
   ]
  },
  {
   "cell_type": "code",
   "execution_count": null,
   "metadata": {
    "collapsed": false
   },
   "outputs": [],
   "source": [
    "import operator, functools\n",
    "\n",
    "functools.reduce(operator.concat, ['A', 'BB', 'C'])"
   ]
  },
  {
   "cell_type": "code",
   "execution_count": null,
   "metadata": {
    "collapsed": false
   },
   "outputs": [],
   "source": [
    "functools.reduce(operator.concat, [])"
   ]
  },
  {
   "cell_type": "code",
   "execution_count": null,
   "metadata": {
    "collapsed": false
   },
   "outputs": [],
   "source": [
    "functools.reduce(operator.mul, [1,2,3], 1)"
   ]
  },
  {
   "cell_type": "code",
   "execution_count": null,
   "metadata": {
    "collapsed": false
   },
   "outputs": [],
   "source": [
    "functools.reduce(operator.mul, [], 1)"
   ]
  },
  {
   "cell_type": "markdown",
   "metadata": {},
   "source": [
    "If you use operator.add() with functools.reduce(), you’ll add up all the elements of the iterable. This case is so common that there’s a special built-in called sum() to compute it:"
   ]
  },
  {
   "cell_type": "code",
   "execution_count": null,
   "metadata": {
    "collapsed": false
   },
   "outputs": [],
   "source": [
    "import functools, operator\n",
    "\n",
    "functools.reduce(operator.add, [1,2,3,4], 0)"
   ]
  },
  {
   "cell_type": "code",
   "execution_count": null,
   "metadata": {
    "collapsed": false
   },
   "outputs": [],
   "source": [
    "sum([1,2,3,4])"
   ]
  },
  {
   "cell_type": "code",
   "execution_count": null,
   "metadata": {
    "collapsed": false
   },
   "outputs": [],
   "source": [
    "sum([])"
   ]
  },
  {
   "cell_type": "markdown",
   "metadata": {},
   "source": [
    "For many uses of functools.reduce(), though, it can be clearer to just write the obvious for loop:\n",
    "\n",
    "```\n",
    "import functools\n",
    "\n",
    "# Instead of:\n",
    "product = functools.reduce(operator.mul, [1,2,3], 1)\n",
    "\n",
    "# You can write:\n",
    "product = 1\n",
    "for i in [1,2,3]:\n",
    "    product *= i\n",
    "```\n",
    "\n",
    "A related function is itertools.accumulate(iterable, func=operator.add) <itertools.accumulate. It performs the same calculation, but instead of returning only the final result, accumulate() returns an iterator that also yields each partial result:\n"
   ]
  },
  {
   "cell_type": "code",
   "execution_count": null,
   "metadata": {
    "collapsed": false
   },
   "outputs": [],
   "source": [
    "print(list( itertools.accumulate([1,2,3,4,5]) ))"
   ]
  },
  {
   "cell_type": "code",
   "execution_count": null,
   "metadata": {
    "collapsed": false
   },
   "outputs": [],
   "source": [
    "print(list( itertools.accumulate([1,2,3,4,5], operator.mul) ))"
   ]
  },
  {
   "cell_type": "markdown",
   "metadata": {},
   "source": [
    "#### The operator module\n",
    "The operator module was mentioned earlier. It contains a set of functions corresponding to Python’s operators. These functions are often useful in functional-style code because they save you from writing trivial functions that perform a single operation.\n",
    "\n",
    "Some of the functions in this module are:\n",
    "\n",
    "Math operations: add(), sub(), mul(), floordiv(), abs(), ...\n",
    "Logical operations: not_(), truth().\n",
    "Bitwise operations: and_(), or_(), invert().\n",
    "Comparisons: eq(), ne(), lt(), le(), gt(), and ge().\n",
    "Object identity: is_(), is_not().\n",
    "Consult the operator module’s documentation for a complete list.\n",
    "\n",
    "#### Small functions and the lambda expression\n",
    "When writing functional-style programs, you’ll often need little functions that act as predicates or that combine elements in some way.\n",
    "\n",
    "If there’s a Python built-in or a module function that’s suitable, you don’t need to define a new function at all:\n",
    "\n",
    "```\n",
    "stripped_lines = [line.strip() for line in lines]\n",
    "existing_files = filter(os.path.exists, file_list)\n",
    "```\n",
    "\n",
    "If the function you need doesn’t exist, you need to write it. One way to write small functions is to use the lambda statement. lambda takes a number of parameters and an expression combining these parameters, and creates an anonymous function that returns the value of the expression:\n",
    "\n",
    "```\n",
    "adder = lambda x, y: x+y\n",
    "\n",
    "print_assign = lambda name, value: name + '=' + str(value)\n",
    "```\n",
    "\n",
    "An alternative is to just use the def statement and define a function in the usual way:\n",
    "\n",
    "```\n",
    "def adder(x, y):\n",
    "    return x + y\n",
    "\n",
    "def print_assign(name, value):\n",
    "    return name + '=' + str(value)\n",
    "```\n",
    "\n",
    "Which alternative is preferable? That’s a style question; my usual course is to avoid using lambda.\n",
    "\n",
    "One reason for my preference is that lambda is quite limited in the functions it can define. The result has to be computable as a single expression, which means you can’t have multiway if... elif... else comparisons or try... except statements. If you try to do too much in a lambda statement, you’ll end up with an overly complicated expression that’s hard to read. Quick, what’s the following code doing?\n",
    "\n",
    "```\n",
    "import functools\n",
    "\n",
    "total = functools.reduce(lambda a, b: (0, a[1] + b[1]), items)[1]\n",
    "```\n",
    "\n",
    "You can figure it out, but it takes time to disentangle the expression to figure out what’s going on. Using a short nested def statements makes things a little bit better:\n",
    "\n",
    "```\n",
    "import functools\n",
    "\n",
    "def combine(a, b):\n",
    "    return 0, a[1] + b[1]\n",
    "\n",
    "total = functools.reduce(combine, items)[1]\n",
    "```\n",
    "\n",
    "But it would be best of all if I had simply used a for loop:\n",
    "\n",
    "```\n",
    "total = 0\n",
    "for a, b in items:\n",
    "    total += b\n",
    "```\n",
    "Or the sum() built-in and a generator expression:\n",
    "```\n",
    "total = sum(b for a,b in items)\n",
    "```\n",
    "\n",
    "Many uses of functools.reduce() are clearer when written as for loops.\n",
    "\n",
    "Fredrik Lundh once suggested the following set of rules for refactoring uses of lambda:\n",
    "\n",
    "- Write a lambda function.\n",
    "- Write a comment explaining what the heck that lambda does.\n",
    "- Study the comment for a while, and think of a name that captures the essence of the comment.\n",
    "- Convert the lambda to a def statement, using that name.\n",
    "- Remove the comment.\n",
    "I really like these rules, but you’re free to disagree about whether this lambda-free style is better."
   ]
  },
  {
   "cell_type": "markdown",
   "metadata": {
    "collapsed": false
   },
   "source": [
    "## Revision History and Acknowledgements\n",
    "The author would like to thank the following people for offering suggestions, corrections and assistance with various drafts of this article: Ian Bicking, Nick Coghlan, Nick Efford, Raymond Hettinger, Jim Jewett, Mike Krell, Leandro Lameiro, Jussi Salmela, Collin Winter, Blake Winton.\n",
    "\n",
    "Version 0.1: posted June 30 2006.\n",
    "\n",
    "Version 0.11: posted July 1 2006. Typo fixes.\n",
    "\n",
    "Version 0.2: posted July 10 2006. Merged genexp and listcomp sections into one. Typo fixes.\n",
    "\n",
    "Version 0.21: Added more references suggested on the tutor mailing list.\n",
    "\n",
    "Version 0.30: Adds a section on the functional module written by Collin Winter; adds short section on the operator module; a few other edits.\n",
    "\n",
    "References\n",
    "General\n",
    "Structure and Interpretation of Computer Programs, by Harold Abelson and Gerald Jay Sussman with Julie Sussman. Full text at https://mitpress.mit.edu/sicp/. In this classic textbook of computer science, chapters 2 and 3 discuss the use of sequences and streams to organize the data flow inside a program. The book uses Scheme for its examples, but many of the design approaches described in these chapters are applicable to functional-style Python code.\n",
    "\n",
    "http://www.defmacro.org/ramblings/fp.html: A general introduction to functional programming that uses Java examples and has a lengthy historical introduction.\n",
    "\n",
    "https://en.wikipedia.org/wiki/Functional_programming: General Wikipedia entry describing functional programming.\n",
    "\n",
    "https://en.wikipedia.org/wiki/Coroutine: Entry for coroutines.\n",
    "\n",
    "https://en.wikipedia.org/wiki/Currying: Entry for the concept of currying.\n",
    "\n",
    "Python-specific\n",
    "http://gnosis.cx/TPiP/: The first chapter of David Mertz’s book Text Processing in Python discusses functional programming for text processing, in the section titled “Utilizing Higher-Order Functions in Text Processing”.\n",
    "\n",
    "Mertz also wrote a 3-part series of articles on functional programming for IBM’s DeveloperWorks site; see part 1, part 2, and part 3,\n",
    "\n",
    "Python documentation\n",
    "Documentation for the itertools module.\n",
    "\n",
    "Documentation for the operator module.\n",
    "\n",
    "PEP 289: “Generator Expressions”\n",
    "\n",
    "PEP 342: “Coroutines via Enhanced Generators” describes the new generator features in Python 2.5.\n",
    "\n",
    "Table Of Contents\n",
    "Functional Programming HOWTO\n",
    "Introduction\n",
    "Formal provability\n",
    "Modularity\n",
    "Ease of debugging and testing\n",
    "Composability\n",
    "Iterators\n",
    "Data Types That Support Iterators\n",
    "Generator expressions and list comprehensions\n",
    "Generators\n",
    "Passing values into a generator\n",
    "Built-in functions\n",
    "The itertools module\n",
    "Creating new iterators\n",
    "Calling functions on elements\n",
    "Selecting elements\n",
    "Combinatoric functions\n",
    "Grouping elements\n",
    "The functools module\n",
    "The operator module\n",
    "Small functions and the lambda expression\n",
    "Revision History and Acknowledgements\n",
    "References\n",
    "General\n",
    "Python-specific\n",
    "Python documentation\n",
    "Previous topic\n",
    "Descriptor HowTo Guide\n",
    "\n",
    "Next topic\n",
    "Logging HOWTO\n",
    "\n",
    "This Page\n",
    "Report a Bug\n",
    "Show Source\n",
    "«\n",
    "indexmodules |next |previous | Python »   Documentation » Python HOWTOs » \n",
    "Quick search\n",
    "  Go |\n",
    "© Copyright 2001-2016, Python Software Foundation. \n",
    "The Python Software Foundation is a non-profit corporation. Please donate. \n",
    "Last updated on Dec 23, 2016. Found a bug? \n",
    "Created using Sphinx 1.3.3."
   ]
  },
  {
   "cell_type": "code",
   "execution_count": null,
   "metadata": {
    "collapsed": true
   },
   "outputs": [],
   "source": []
  },
  {
   "cell_type": "code",
   "execution_count": null,
   "metadata": {
    "collapsed": true
   },
   "outputs": [],
   "source": [
    "print(list( ))"
   ]
  },
  {
   "cell_type": "markdown",
   "metadata": {},
   "source": [
    "## Monads\n",
    "\n",
    "Collection of classes for programming with functors, applicative functors and monads:\n",
    "https://pypi.python.org/pypi/PyMonad/\n"
   ]
  },
  {
   "cell_type": "code",
   "execution_count": null,
   "metadata": {
    "collapsed": false
   },
   "outputs": [],
   "source": [
    "!pip install PyMonad"
   ]
  },
  {
   "cell_type": "code",
   "execution_count": null,
   "metadata": {
    "collapsed": true
   },
   "outputs": [],
   "source": [
    "from pymonad import *"
   ]
  },
  {
   "cell_type": "markdown",
   "metadata": {},
   "source": [
    "### Curried functions"
   ]
  },
  {
   "cell_type": "code",
   "execution_count": 98,
   "metadata": {
    "collapsed": true
   },
   "outputs": [],
   "source": [
    "@curry\n",
    "def add(x, y):\n",
    "    print(\"x=\"+ str(x))\n",
    "    return x + y\n",
    "\n",
    "@curry\n",
    "def mult(x, y, z):\n",
    "    return x * y * z"
   ]
  },
  {
   "cell_type": "code",
   "execution_count": 99,
   "metadata": {
    "collapsed": false
   },
   "outputs": [
    {
     "name": "stdout",
     "output_type": "stream",
     "text": [
      "<pymonad.Reader.Reader object at 0x7fbba480cba8>\n"
     ]
    }
   ],
   "source": [
    "add8 = add(8)\n",
    "print(add8)"
   ]
  },
  {
   "cell_type": "code",
   "execution_count": 100,
   "metadata": {
    "collapsed": false
   },
   "outputs": [
    {
     "name": "stdout",
     "output_type": "stream",
     "text": [
      "x=8\n"
     ]
    },
    {
     "data": {
      "text/plain": [
       "15"
      ]
     },
     "execution_count": 100,
     "metadata": {},
     "output_type": "execute_result"
    }
   ],
   "source": [
    "add8(7)"
   ]
  },
  {
   "cell_type": "code",
   "execution_count": 101,
   "metadata": {
    "collapsed": false
   },
   "outputs": [
    {
     "name": "stdout",
     "output_type": "stream",
     "text": [
      "Help on function curry in module pymonad.Reader:\n",
      "\n",
      "curry(aFunction)\n",
      "    Turns a normal python function into a curried function.\n",
      "    \n",
      "    Most easily used as a decorator when defining functions:\n",
      "            @curry\n",
      "            def add(x, y): return x + y\n",
      "\n"
     ]
    }
   ],
   "source": [
    "help(curry)"
   ]
  },
  {
   "cell_type": "code",
   "execution_count": null,
   "metadata": {
    "collapsed": false
   },
   "outputs": [],
   "source": [
    "mult10=mult(10)\n",
    "mult100=mult10(10)\n",
    "\n",
    "print( mult100 ( 6))"
   ]
  },
  {
   "cell_type": "markdown",
   "metadata": {},
   "source": [
    "### Function Compositon"
   ]
  },
  {
   "cell_type": "code",
   "execution_count": 102,
   "metadata": {
    "collapsed": false
   },
   "outputs": [
    {
     "data": {
      "text/plain": [
       "2"
      ]
     },
     "execution_count": 102,
     "metadata": {},
     "output_type": "execute_result"
    }
   ],
   "source": [
    "# Returns the first element of a list.\n",
    "@curry\n",
    "def head(aList):\n",
    "    return aList[0]\n",
    "\n",
    "# Returns everything except the first element of the list.\n",
    "@curry\n",
    "def tail(aList):\n",
    "    return aList[1:]\n",
    "\n",
    "second = head * tail        # 'tail' will be applied first, then its result passed to 'head'\n",
    "\n",
    "\n",
    "second([1, 2, 3, 4])        # returns 2\n",
    "\n"
   ]
  },
  {
   "cell_type": "markdown",
   "metadata": {},
   "source": [
    "### Functors, Applicative Functors, and Monads\n",
    "All Monads are also Applicative Functors, and all Applicative Functors are also Functors, though the same is not necessarily true in reverse. All the types included with PyMonad are defined as all three but you can define new types however you want.\n",
    "\n",
    "All of these types ultimately derive from Container which simply holds a value and provides some basic value equality checking. The method getValue() will allow you to “extract” the value of monadic computations if/when necessary.\n",
    "\n",
    "### Functors\n",
    "All functors define the fmap method which can be invoked via the fmap operator *. fmap takes functions which operate on simple types – integers, strings, etc. – and allows them to operate of functor types:\n",
    "\n",
    "#from pymonad.Maybe import *\n",
    "#from pymonad.List import *"
   ]
  },
  {
   "cell_type": "code",
   "execution_count": null,
   "metadata": {
    "collapsed": false
   },
   "outputs": [],
   "source": [
    "# 'neg' knows nothing about functor types...\n",
    "def neg(x):\n",
    "    return -x\n",
    "\n",
    "# ... but that doesn't stop us from using it anyway.\n",
    "neg * Just(9)                 # returns Just(-9)\n",
    "neg * Nothing                 # returns Nothing\n",
    "neg * List(1, 2, 3, 4)        # returns List(-1, -2, -3, -4)"
   ]
  },
  {
   "cell_type": "markdown",
   "metadata": {},
   "source": [
    "Notice that the function is on the left and the functor type is on the right. If you think of * as a sort of fancy opening paren, then normal calls and fmap calls have basically the same structure:\n",
    "\n",
    "```\n",
    "------------------------------------------------------------------\n",
    "                function          open          argument        close\n",
    "Normal call         neg             (               9              )\n",
    "fmap call           neg             *             Just(9)\n",
    "------------------------------------------------------------------\n",
    "```\n",
    "\n",
    "Notice that * is also the function composition operator. In fact, curried functions are instances of the Reader monad, and fmap -ing a function over another function is the same thing as function composition.\n",
    "\n",
    "### Applicative Functors\n",
    "Functors allow you to use normal functions of a single argument – like neg above – with functor types. Applicative Functors extend that capability – via amap and its operator & – allowing you to use normal functions of multiple arguments with functor types:"
   ]
  },
  {
   "cell_type": "code",
   "execution_count": null,
   "metadata": {
    "collapsed": false
   },
   "outputs": [],
   "source": [
    "# 'add' operates on simple types, not functors or applicatives...\n",
    "def add(x, y):\n",
    "    return x + y\n",
    "\n",
    "# ... but we're going to use it on those types anyway.\n",
    "# Note that we're still using '*' but now in conjunction with '&'\n",
    "add * Just(7) & Just(8)                    # returns Just(15)\n",
    "add * Nothing & Just(8)                    # returns Nothing\n",
    "add * Just(7) & Nothing                    # returns Nothing\n",
    "add * List(1, 2, 3) & List(4, 5, 6)        # returns List(5, 6, 7, 6, 7, 8, 7, 8, 9)\n",
    "\n",
    "# If * is a fancy paren, & is the fancy comma used to separate arguments."
   ]
  },
  {
   "cell_type": "markdown",
   "metadata": {},
   "source": [
    "### Monads\n",
    "Monads allow you to sequence a series of calculations within than monad using the bind operator >>.\n",
    "\n",
    "The first argument to >> is a monad type. The second argument is a function which takes a single, non-monad argument and returns an instance of the same monad:"
   ]
  },
  {
   "cell_type": "code",
   "execution_count": null,
   "metadata": {
    "collapsed": false
   },
   "outputs": [],
   "source": [
    "#from pymonad.List import *\n",
    "#from pymonad.Reader import curry\n",
    "\n",
    "# Takes a simple number type and returns a 'List' containing that value and it's negative.\n",
    "def positive_and_negative(x):\n",
    "    return List(x, -x)\n",
    "\n",
    "# You can call 'positive_and_negative' normally.\n",
    "positive_and_negative(9)        # returns List(9, -9)\n",
    "\n",
    "# Or you can create a List...\n",
    "x = List(9)\n",
    "\n",
    "# ... and then use '>>' to apply positive_and_negative'\n",
    "x >> positive_and_negative        # also returns List(9, -9)\n",
    "\n",
    "# But 'x' could also have more than one value...\n",
    "x = List(1, 2)\n",
    "x >> positive_and_negative        # returns List(1, -1, 2, -2)\n",
    "\n",
    "# And of course you can sequence partially applied functions.\n",
    "@curry\n",
    "def add_and_sub(x, y):\n",
    "    return List(y + x, y - x)\n",
    "\n",
    "List(2) >> positive_and_negative >> add_and_sub(3)        # creates List(2)\n",
    "                                                          # applies positive_and_negative: List(2, -2)\n",
    "                                                          # then add_and_sub(3): List(5, -1, 1, -5)\n",
    "                                                          # final result: List(5, -1, 1, -5)"
   ]
  },
  {
   "cell_type": "markdown",
   "metadata": {},
   "source": [
    "### Variable assignment in monadic code\n",
    "The second argument to >> is a function which takes a single, non-monad argument. Because of that, you can use lambda to assign values to a variable withing monadic code, like this:"
   ]
  },
  {
   "cell_type": "code",
   "execution_count": null,
   "metadata": {
    "collapsed": false
   },
   "outputs": [],
   "source": [
    "from pymonad.Maybe import *\n",
    "\n",
    "Just(9) >> (lambda x:                 # Here, 'x' takes the value '9'\n",
    "Just(8) >> (lambda y:                 # And 'y' takes the value '8'\n",
    "Just(x + y)))                         # The final returned value is 'Just(9 + 8)', or 'Just(17)'\n"
   ]
  },
  {
   "cell_type": "markdown",
   "metadata": {},
   "source": [
    "You can also simply ignore values if you wish:"
   ]
  },
  {
   "cell_type": "code",
   "execution_count": null,
   "metadata": {
    "collapsed": false
   },
   "outputs": [],
   "source": [
    "Just(9) >> Just(8)                    # The '9' is thrown away and the result of this computation is 'Just(8)'"
   ]
  },
  {
   "cell_type": "markdown",
   "metadata": {},
   "source": [
    "### Implementing Monads\n",
    "Implementing other functors, applicatives, or monads is fairly straight-forward. There are three classes, serving as interfaces:\n",
    "\n",
    "```Monad --> Applicative --> Functor```\n",
    "\n",
    "To implement a new functor, create a new class which derives from Functor and override the fmap method.\n",
    "\n",
    "To implement a new applicative functor, create a new class which derives from Applicative and override the amap and fmap methods.\n",
    "\n",
    "To implement a new monad, create a new class which derives from Monad and override at least the bind method, and preferably the amap and fmap methods as well.\n",
    "\n",
    "The operators, *, &, and >> are pre-defined to call the above methods so you shouldn’t need to touch them directly.\n",
    "\n",
    "### unit (aka return)\n",
    "The previous version of pymonad didn’t include the method unit (called return in Haskell). unit takes a bare value, such as 8, and places it in a default context for that monad. Haskell allows polymorphism on return types as well as supporting type inference, so you (mostly) don’t have to tell return what types to expect, it just figures it out. We can’t do that in Python, so you always need to tell unit what type you’re expecting.\n",
    "\n",
    "The unit method is implemented as a class method in Functor.py, so it can be used with any functor, applicative or monad. There is also a unit function which expects a functor type (though you can also give it an instance) and a value and invokes the corresponding unit method. It is provided to give a more “functional look” to code, but use whichever method you prefer. With the Maybe monad for example:"
   ]
  },
  {
   "cell_type": "code",
   "execution_count": null,
   "metadata": {
    "collapsed": false
   },
   "outputs": [],
   "source": [
    "Maybe.unit(8) # returns Just(8)\n",
    "unit(Maybe, 8) # also returns Just(8)"
   ]
  },
  {
   "cell_type": "markdown",
   "metadata": {},
   "source": [
    "In either case all functors (and applicatives and monads) should implement the unit class method.\n",
    "\n",
    "### Monoids\n",
    "\n",
    "Monoids are a data type which consists of some operation for combining values of that type, and an identity value for that operation. The operation is called mplus and the identity value is callled mzero. Despite the names, they are not necessarily addition and zero. They can be addition and zero though, numbers are sort of the typical monoid.\n",
    "\n",
    "In the case of numbers, zero is the identity element and addition is the operation. Monoids adhere to the following laws:\n",
    "\n",
    "Left and right identity: \n",
    "```x + 0 = 0 + x = x```\n",
    "Associativity:\n",
    "```(x + y) + z = x + (y + z) = x + y + z```\n",
    "\n",
    "Stings are also monoids with the identity element mzero equal to the empty string, and the operation mplus concatenation.\n",
    "\n",
    "### Creating New Monoids\n",
    "To create a new monoids type create a class deriving from Monoid and override the mzero static method which takes no arguments and should return an instance of the class containing the identity value for the monoid. Also override the mplus method. For instance, numbers can be a monoid in two ways, one way with zero and addition as discussed above and the other way with one and multiplication. We could implement that like this:"
   ]
  },
  {
   "cell_type": "code",
   "execution_count": null,
   "metadata": {
    "collapsed": true
   },
   "outputs": [],
   "source": [
    "class ProductMonoid(Monoid):\n",
    "    @staticmethod\n",
    "    def mzero():\n",
    "        return ProductMonoid(1)\n",
    "\n",
    "    def mplus(self, other):\n",
    "        return ProductMonoid(self.getValue() * other.getValue())\n",
    "    "
   ]
  },
  {
   "cell_type": "markdown",
   "metadata": {},
   "source": [
    "The + operator (aka __add__()) is defined to call mplus on monoid instances, so you can simply “add” monoid values together rather than having to call mplus directly.\n",
    "\n",
    "### “Natural” Monoids\n",
    "Similar to unit for monads, there is an mzero function which expects a type and can be used instead of the mzero method. Unlike unit however, the mzero function serves another purpose. Numbers, strings and lists can all be used as monoids and all already have an appropriate definition for +. What they don’t have is an mzero method. To allow numbers, strings and lists to be used as monoids without any extra work, the mzero function will return the appropriate value for these types and will attempt to call the mzero method on anything else. For instance:"
   ]
  },
  {
   "cell_type": "code",
   "execution_count": null,
   "metadata": {
    "collapsed": false
   },
   "outputs": [],
   "source": [
    "mzero(int)                    # returns 0, also works with float\n",
    "mzero(str)                    # returns \"\"\n",
    "mzero(list)                   # returns []\n",
    "mzero(ProductMonoid)          # return ProductMonoid(1)"
   ]
  },
  {
   "cell_type": "markdown",
   "metadata": {},
   "source": [
    "                              # etc...\n",
    "If you write code involving monoids, and you’re not sure what type of monoid you might be handed, you should use the mzero function and not the mzero method.\n",
    "\n",
    "### Monoids and the Writer Monad\n",
    "\n",
    "The Writer monad performs calculations and keeps a log. The log can be any monoid type – strings being a typical example.\n",
    "\n",
    "The Writer class doesn’t have a default log type, so to use Writer you need to inherit from it. It is extremely simple as the only thing you need to do is define the log type. For instance:"
   ]
  },
  {
   "cell_type": "code",
   "execution_count": null,
   "metadata": {
    "collapsed": true
   },
   "outputs": [],
   "source": [
    "class StringWriter(Writer):\n",
    "    logType = str"
   ]
  },
  {
   "cell_type": "markdown",
   "metadata": {},
   "source": [
    "That’s it. Everything else is already defined by Writer. StringWriter, NumberWriter, and ListWriter are already defined in the Writer module for you to use.\n",
    "\n",
    "Calling unit with a Writer class packages whatever value you give it with the mzero of the log type:"
   ]
  },
  {
   "cell_type": "code",
   "execution_count": null,
   "metadata": {
    "collapsed": false
   },
   "outputs": [],
   "source": [
    "unit(StringWriter, 8)        # Returns Writer(8, \"\")"
   ]
  },
  {
   "cell_type": "markdown",
   "metadata": {},
   "source": [
    "Writer constructors take two values, the first being the result of whatever calculation you’ve just performed, the second being the log message – or value, or whatever – to add to the log.\n",
    "\n",
    "### Other Methods ###\n",
    "\n",
    "getValue(): Returns the result and log as a two-tuple.\n",
    "\n",
    "getResult(): Returns only the result.\n",
    "\n",
    "getLog(): Returns only the log.\n",
    "\n",
    "A quick example:"
   ]
  },
  {
   "cell_type": "code",
   "execution_count": null,
   "metadata": {
    "collapsed": false
   },
   "outputs": [],
   "source": [
    "@curry\n",
    "def add(x, y):\n",
    "    return StringWriter(x + y, \"Adding \" + str(x) + \" and \" + str(y) + \". \")\n",
    "\n",
    "x = unit(StringWriter, 8) >> add(4) >> add(5)\n",
    "print(x.getResult())     # prints 17\n",
    "print(x.getLog())        # prints \"Adding 8 and 4. Adding 12 and 5. \""
   ]
  },
  {
   "cell_type": "markdown",
   "metadata": {},
   "source": [
    "In the definition of add`, ``StringWriter could have also been just Writer. It’s really only necessary to use subclasses when using unit, because unit checks for the logType variable. Otherwise simply giving plain old Writer a string – or other monoid type argument – accomplishes the same thing. Both unit and bind (or >>) convert *Writer types to plain Writer but using StringWriter – or whatever – makes your intentions more clear.\n",
    "\n",
    "### State Monad\n",
    "\n",
    "Unlike most of the other monad types, the state monad doesn’t wrap values it wraps functions. Specifically, it wraps functions which accept a single ‘state’ argument and produce a result and a new ‘state’ as a 2-tuple. The ‘state’ can be anything: simple types like integers, lists, dictionaries, custom objects/data types, whatever. The important thing is that any given chain of stateful computations all use the same type of state.\n",
    "\n",
    "The State constuctor should only be used to create stateful computations. Trying to use State to inject values, or even non-stateful functions, into the monad will cause it to function incorrectly. To inject values, use the unit function.\n",
    "\n",
    "Here’s an example of using State. We’ll create a little system which can perform addition and subtraction. Our total will never be allowed to drop below zero. The state that we’ll be keeping track of is a simple count of the total number of operations performed. Every time we perform an addition or subtraction the count will go up by one:"
   ]
  },
  {
   "cell_type": "code",
   "execution_count": null,
   "metadata": {
    "collapsed": true
   },
   "outputs": [],
   "source": [
    "@curry\n",
    "def add(x, y):\n",
    "        return State(lambda old_state: (x + y, old_state + 1))\n",
    "\n",
    "@curry\n",
    "def subtract(y, x):\n",
    "        @State\n",
    "        def state_computation(old_state):\n",
    "                if x - y < 0:\n",
    "                        return (0, old_state + 1)\n",
    "                else:\n",
    "                        return (x - y, old_state + 1)\n",
    "        return state_computation"
   ]
  },
  {
   "cell_type": "markdown",
   "metadata": {},
   "source": [
    "As mentioned, The State constructor takes a function which accepts a ‘state’, in this case simply an integer, and produces a result and a new state as a tuple. Although we could have done subtract as a one-liner, I wanted to show that, if your computation is more complex than can easily be contained in a lambda expression, you can use State as a decorator to define the stateful computation."
   ]
  },
  {
   "cell_type": "code",
   "execution_count": null,
   "metadata": {
    "collapsed": true
   },
   "outputs": [],
   "source": [
    "### Using these functions is now simple:\n",
    "\n",
    "x = unit(State, 1) >> add(2) >> add(3) >> subtract(40) >> add(5)"
   ]
  },
  {
   "cell_type": "markdown",
   "metadata": {},
   "source": [
    "x now contains a stateful computation but that computation hasn’t been executed yet. Since State values contain functions, you can call them like functions by supplying an initial state value:"
   ]
  },
  {
   "cell_type": "code",
   "execution_count": null,
   "metadata": {
    "collapsed": false
   },
   "outputs": [],
   "source": [
    "y = x(0)        # Since we're counting the total number of operations, we start at zero.\n",
    "print(y)        # Prints (5, 4), '5' is the result and '4' is the total number of operations performed."
   ]
  },
  {
   "cell_type": "markdown",
   "metadata": {},
   "source": [
    "Calling a State function in this way will always return the (result, state) tuple. If you’re only interested in the result:"
   ]
  },
  {
   "cell_type": "code",
   "execution_count": null,
   "metadata": {
    "collapsed": true
   },
   "outputs": [],
   "source": [
    "y = x.getResult(0)        # Here 'y' takes the value 5, the result of the computataion."
   ]
  },
  {
   "cell_type": "markdown",
   "metadata": {},
   "source": [
    "Or if you only care about the final state:"
   ]
  },
  {
   "cell_type": "code",
   "execution_count": null,
   "metadata": {
    "collapsed": true
   },
   "outputs": [],
   "source": [
    "y = x.getState(0)         # Here 'y' takes the value 4, the final state of the computation."
   ]
  },
  {
   "cell_type": "code",
   "execution_count": null,
   "metadata": {
    "collapsed": true
   },
   "outputs": [],
   "source": []
  }
 ],
 "metadata": {
  "anaconda-cloud": {},
  "kernelspec": {
   "display_name": "Python [default]",
   "language": "python",
   "name": "python3"
  },
  "language_info": {
   "codemirror_mode": {
    "name": "ipython",
    "version": 3
   },
   "file_extension": ".py",
   "mimetype": "text/x-python",
   "name": "python",
   "nbconvert_exporter": "python",
   "pygments_lexer": "ipython3",
   "version": "3.5.2"
  },
  "nbpresent": {
   "slides": {
    "44e93d67-3d33-47f7-be2e-3e41431bb654": {
     "id": "44e93d67-3d33-47f7-be2e-3e41431bb654",
     "prev": "513c83de-75fe-4354-adca-19e1721f9456",
     "regions": {
      "3bd213ca-3d00-45a9-a3eb-dc0e8ce43164": {
       "attrs": {
        "height": 0.8,
        "width": 0.45,
        "x": 0.5,
        "y": 0.1
       },
       "id": "3bd213ca-3d00-45a9-a3eb-dc0e8ce43164"
      },
      "660bf02d-3e3b-4797-a938-a6b44c02b6e7": {
       "attrs": {
        "height": 0.8,
        "width": 0.45,
        "x": -0.06273834940141322,
        "y": 0.37189266005508775
       },
       "id": "660bf02d-3e3b-4797-a938-a6b44c02b6e7"
      }
     }
    },
    "513c83de-75fe-4354-adca-19e1721f9456": {
     "id": "513c83de-75fe-4354-adca-19e1721f9456",
     "prev": null,
     "regions": {
      "830d1573-cfa8-402a-91db-c44970410405": {
       "attrs": {
        "height": 0.8,
        "width": 0.8,
        "x": 0.1,
        "y": 0.1
       },
       "content": {
        "cell": "979e59bb-4179-4bbd-86e9-8883140ea7b2",
        "part": "whole"
       },
       "id": "830d1573-cfa8-402a-91db-c44970410405"
      }
     }
    }
   },
   "themes": {
    "default": "9abcc2b2-ee3b-41e4-bb3e-e9c60622667d",
    "theme": {
     "9abcc2b2-ee3b-41e4-bb3e-e9c60622667d": {
      "id": "9abcc2b2-ee3b-41e4-bb3e-e9c60622667d",
      "palette": {
       "19cc588f-0593-49c9-9f4b-e4d7cc113b1c": {
        "id": "19cc588f-0593-49c9-9f4b-e4d7cc113b1c",
        "rgb": [
         252,
         252,
         252
        ]
       },
       "31af15d2-7e15-44c5-ab5e-e04b16a89eff": {
        "id": "31af15d2-7e15-44c5-ab5e-e04b16a89eff",
        "rgb": [
         68,
         68,
         68
        ]
       },
       "50f92c45-a630-455b-aec3-788680ec7410": {
        "id": "50f92c45-a630-455b-aec3-788680ec7410",
        "rgb": [
         155,
         177,
         192
        ]
       },
       "c5cc3653-2ee1-402a-aba2-7caae1da4f6c": {
        "id": "c5cc3653-2ee1-402a-aba2-7caae1da4f6c",
        "rgb": [
         43,
         126,
         184
        ]
       },
       "efa7f048-9acb-414c-8b04-a26811511a21": {
        "id": "efa7f048-9acb-414c-8b04-a26811511a21",
        "rgb": [
         25.118061674008803,
         73.60176211453744,
         107.4819383259912
        ]
       }
      },
      "rules": {
       "blockquote": {
        "color": "50f92c45-a630-455b-aec3-788680ec7410"
       },
       "code": {
        "font-family": "Anonymous Pro"
       },
       "h1": {
        "color": "c5cc3653-2ee1-402a-aba2-7caae1da4f6c",
        "font-family": "Lato",
        "font-size": 8
       },
       "h2": {
        "color": "c5cc3653-2ee1-402a-aba2-7caae1da4f6c",
        "font-family": "Lato",
        "font-size": 6
       },
       "h3": {
        "color": "50f92c45-a630-455b-aec3-788680ec7410",
        "font-family": "Lato",
        "font-size": 5.5
       },
       "h4": {
        "color": "c5cc3653-2ee1-402a-aba2-7caae1da4f6c",
        "font-family": "Lato",
        "font-size": 5
       },
       "h5": {
        "font-family": "Lato"
       },
       "h6": {
        "font-family": "Lato"
       },
       "h7": {
        "font-family": "Lato"
       },
       "pre": {
        "font-family": "Anonymous Pro",
        "font-size": 4
       }
      },
      "text-base": {
       "font-family": "Merriweather",
       "font-size": 4
      }
     }
    }
   }
  }
 },
 "nbformat": 4,
 "nbformat_minor": 1
}
